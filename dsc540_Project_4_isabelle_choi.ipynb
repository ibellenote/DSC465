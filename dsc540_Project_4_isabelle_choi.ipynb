{
  "cells": [
    {
      "cell_type": "markdown",
      "metadata": {
        "id": "view-in-github",
        "colab_type": "text"
      },
      "source": [
        "<a href=\"https://colab.research.google.com/github/ibellenote/DSC465/blob/main/dsc540_Project_4_isabelle_choi.ipynb\" target=\"_parent\"><img src=\"https://colab.research.google.com/assets/colab-badge.svg\" alt=\"Open In Colab\"/></a>"
      ]
    },
    {
      "cell_type": "markdown",
      "metadata": {
        "id": "WJE9QtaAeDxF"
      },
      "source": [
        "# DSC540 Project 4"
      ]
    },
    {
      "cell_type": "markdown",
      "metadata": {
        "id": "NjmPTAtNeDxI"
      },
      "source": [
        "DePaul University  \n",
        "Ilyas Ustun, PhD  \n",
        "Chicago, IL  "
      ]
    },
    {
      "cell_type": "markdown",
      "metadata": {
        "id": "xJRNJMfoeDxI"
      },
      "source": [
        "## Rules\n",
        "- Write your code under the corresponding questions where you see `# Code here`. You are encouraged to use more than one cell.\n",
        "- Provide explanation in a separate Markdown formatted cell. \n",
        "- You can change the cell type by:\n",
        "    - Clicking on the outer area of the cell type you want to change,\n",
        "    - Go to the top, and select either Code or Markdown from the dropdown menu.\n",
        "- Be concise in your explanations and conclusions.\n",
        "- Write clear code and provide explanation to functions you create by using `#` comment sign.\n",
        "- For built-in function and methods you use from libraries, provide a very brief explanation of what they do.\n",
        "- Try to answer the questions by yourself. Use documentation from pandas, sklearn and similar libraries to solve the problem.\n",
        "- If you are stuck you can use different resources. Do not find an identical project and copy paste the solutions. \n",
        "- Write your name before beginning to code.\n",
        "\n",
        "\n",
        "Important:  \n",
        "- **Do NOT share the solutions with other people.**\n",
        "- **Do NOT share the solutions on the internet including but not limited to Github and other platforms.**\n",
        "- Sign the Honor Pledge below indicating that you have agreed to these rules listed here, and any other ethical and honor rules as required by the university.\n",
        "\n",
        "\n",
        "\n",
        "- **Deliverables:**\n",
        "    1. The Python Jupyter notebook file named properly with your name. Example: dsc540_project1_john_doe.ipynb\n",
        "    2. The HTML output of this code notebook names the same way. Example: dsc540_project1_john_doe.html\n",
        "        - File -> Download as -> HTML   \n",
        "\n",
        "Good Luck!"
      ]
    },
    {
      "cell_type": "markdown",
      "metadata": {
        "id": "gzvAXgm9eDxI"
      },
      "source": [
        "### YOUR NAME HERE"
      ]
    },
    {
      "cell_type": "markdown",
      "metadata": {
        "id": "actkKj6seDxI"
      },
      "source": [
        "**Honor Pledge:**  \n",
        "I pledge on my honor that I, **Isabelle Young Choi**, have followed the rules listed above, that I have not given or received any unauthorized assistance on this assignment. \n"
      ]
    },
    {
      "cell_type": "markdown",
      "metadata": {
        "id": "68EnElDkeDxJ"
      },
      "source": [
        "## Q1 [10]"
      ]
    },
    {
      "cell_type": "markdown",
      "metadata": {
        "id": "RZng-vSPeDxJ"
      },
      "source": [
        "A drug company would like to introduce a drug to help patients with Alzheimer's. It is desirable to estimate $θ$, the proportion of the market share that this drug will capture. \n",
        "- The company interviews 100 people and 15 of them say that they will buy the drug. (This the observed data: n=100, observed=15) $->$ likelihood\n",
        "- If in the past new drugs tend to capture a proportion between say .10 and .40 of the market, and if all values in between are assumed equally likely, then $θ ∼ Unif(0.10, 0.40)$ $->$ prior"
      ]
    },
    {
      "cell_type": "markdown",
      "metadata": {
        "id": "K4FUV152eDxJ"
      },
      "source": [
        "### What is the traceplot of $\\theta$ using Bayesian analysis to estimate the market share for the new drug?\n",
        "- Sample 10000 draws\n",
        "- Plot the traceplot"
      ]
    },
    {
      "cell_type": "code",
      "source": [
        "from google.colab import drive\n",
        "drive.mount('/content/drive')"
      ],
      "metadata": {
        "colab": {
          "base_uri": "https://localhost:8080/"
        },
        "id": "FwCJj6yNlutA",
        "outputId": "f153dac1-18c4-4699-bf6a-bdca06eb5430"
      },
      "execution_count": null,
      "outputs": [
        {
          "output_type": "stream",
          "name": "stdout",
          "text": [
            "Mounted at /content/drive\n"
          ]
        }
      ]
    },
    {
      "cell_type": "code",
      "source": [
        "! pip install nbconvert"
      ],
      "metadata": {
        "colab": {
          "base_uri": "https://localhost:8080/"
        },
        "id": "0Pxf16ycoGgt",
        "outputId": "70535867-adc2-49b4-c993-b07f56d8bf93"
      },
      "execution_count": null,
      "outputs": [
        {
          "output_type": "stream",
          "name": "stdout",
          "text": [
            "Looking in indexes: https://pypi.org/simple, https://us-python.pkg.dev/colab-wheels/public/simple/\n",
            "Requirement already satisfied: nbconvert in /usr/local/lib/python3.10/dist-packages (6.5.4)\n",
            "Requirement already satisfied: lxml in /usr/local/lib/python3.10/dist-packages (from nbconvert) (4.9.2)\n",
            "Requirement already satisfied: beautifulsoup4 in /usr/local/lib/python3.10/dist-packages (from nbconvert) (4.11.2)\n",
            "Requirement already satisfied: bleach in /usr/local/lib/python3.10/dist-packages (from nbconvert) (6.0.0)\n",
            "Requirement already satisfied: defusedxml in /usr/local/lib/python3.10/dist-packages (from nbconvert) (0.7.1)\n",
            "Requirement already satisfied: entrypoints>=0.2.2 in /usr/local/lib/python3.10/dist-packages (from nbconvert) (0.4)\n",
            "Requirement already satisfied: jinja2>=3.0 in /usr/local/lib/python3.10/dist-packages (from nbconvert) (3.1.2)\n",
            "Requirement already satisfied: jupyter-core>=4.7 in /usr/local/lib/python3.10/dist-packages (from nbconvert) (5.3.0)\n",
            "Requirement already satisfied: jupyterlab-pygments in /usr/local/lib/python3.10/dist-packages (from nbconvert) (0.2.2)\n",
            "Requirement already satisfied: MarkupSafe>=2.0 in /usr/local/lib/python3.10/dist-packages (from nbconvert) (2.1.2)\n",
            "Requirement already satisfied: mistune<2,>=0.8.1 in /usr/local/lib/python3.10/dist-packages (from nbconvert) (0.8.4)\n",
            "Requirement already satisfied: nbclient>=0.5.0 in /usr/local/lib/python3.10/dist-packages (from nbconvert) (0.7.4)\n",
            "Requirement already satisfied: nbformat>=5.1 in /usr/local/lib/python3.10/dist-packages (from nbconvert) (5.8.0)\n",
            "Requirement already satisfied: packaging in /usr/local/lib/python3.10/dist-packages (from nbconvert) (23.1)\n",
            "Requirement already satisfied: pandocfilters>=1.4.1 in /usr/local/lib/python3.10/dist-packages (from nbconvert) (1.5.0)\n",
            "Requirement already satisfied: pygments>=2.4.1 in /usr/local/lib/python3.10/dist-packages (from nbconvert) (2.14.0)\n",
            "Requirement already satisfied: tinycss2 in /usr/local/lib/python3.10/dist-packages (from nbconvert) (1.2.1)\n",
            "Requirement already satisfied: traitlets>=5.0 in /usr/local/lib/python3.10/dist-packages (from nbconvert) (5.7.1)\n",
            "Requirement already satisfied: platformdirs>=2.5 in /usr/local/lib/python3.10/dist-packages (from jupyter-core>=4.7->nbconvert) (3.3.0)\n",
            "Requirement already satisfied: jupyter-client>=6.1.12 in /usr/local/lib/python3.10/dist-packages (from nbclient>=0.5.0->nbconvert) (6.1.12)\n",
            "Requirement already satisfied: fastjsonschema in /usr/local/lib/python3.10/dist-packages (from nbformat>=5.1->nbconvert) (2.16.3)\n",
            "Requirement already satisfied: jsonschema>=2.6 in /usr/local/lib/python3.10/dist-packages (from nbformat>=5.1->nbconvert) (4.3.3)\n",
            "Requirement already satisfied: soupsieve>1.2 in /usr/local/lib/python3.10/dist-packages (from beautifulsoup4->nbconvert) (2.4.1)\n",
            "Requirement already satisfied: six>=1.9.0 in /usr/local/lib/python3.10/dist-packages (from bleach->nbconvert) (1.16.0)\n",
            "Requirement already satisfied: webencodings in /usr/local/lib/python3.10/dist-packages (from bleach->nbconvert) (0.5.1)\n",
            "Requirement already satisfied: attrs>=17.4.0 in /usr/local/lib/python3.10/dist-packages (from jsonschema>=2.6->nbformat>=5.1->nbconvert) (23.1.0)\n",
            "Requirement already satisfied: pyrsistent!=0.17.0,!=0.17.1,!=0.17.2,>=0.14.0 in /usr/local/lib/python3.10/dist-packages (from jsonschema>=2.6->nbformat>=5.1->nbconvert) (0.19.3)\n",
            "Requirement already satisfied: pyzmq>=13 in /usr/local/lib/python3.10/dist-packages (from jupyter-client>=6.1.12->nbclient>=0.5.0->nbconvert) (23.2.1)\n",
            "Requirement already satisfied: python-dateutil>=2.1 in /usr/local/lib/python3.10/dist-packages (from jupyter-client>=6.1.12->nbclient>=0.5.0->nbconvert) (2.8.2)\n",
            "Requirement already satisfied: tornado>=4.1 in /usr/local/lib/python3.10/dist-packages (from jupyter-client>=6.1.12->nbclient>=0.5.0->nbconvert) (6.3.1)\n"
          ]
        }
      ]
    },
    {
      "cell_type": "code",
      "source": [
        "!jupyter nbconvert --to html dsc540_Project 4_isabelle_choi.ipynb"
      ],
      "metadata": {
        "colab": {
          "base_uri": "https://localhost:8080/"
        },
        "id": "K79xUWpCoPHY",
        "outputId": "c32af0d8-b930-4516-d6ca-3bd6d8b908a6"
      },
      "execution_count": null,
      "outputs": [
        {
          "output_type": "stream",
          "name": "stdout",
          "text": [
            "[NbConvertApp] WARNING | pattern 'dsc540_Project' matched no files\n",
            "[NbConvertApp] WARNING | pattern '4_isabelle_choi.ipynb' matched no files\n",
            "This application is used to convert notebook files (*.ipynb)\n",
            "        to various other formats.\n",
            "\n",
            "        WARNING: THE COMMANDLINE INTERFACE MAY CHANGE IN FUTURE RELEASES.\n",
            "\n",
            "Options\n",
            "=======\n",
            "The options below are convenience aliases to configurable class-options,\n",
            "as listed in the \"Equivalent to\" description-line of the aliases.\n",
            "To see all configurable class-options for some <cmd>, use:\n",
            "    <cmd> --help-all\n",
            "\n",
            "--debug\n",
            "    set log level to logging.DEBUG (maximize logging output)\n",
            "    Equivalent to: [--Application.log_level=10]\n",
            "--show-config\n",
            "    Show the application's configuration (human-readable format)\n",
            "    Equivalent to: [--Application.show_config=True]\n",
            "--show-config-json\n",
            "    Show the application's configuration (json format)\n",
            "    Equivalent to: [--Application.show_config_json=True]\n",
            "--generate-config\n",
            "    generate default config file\n",
            "    Equivalent to: [--JupyterApp.generate_config=True]\n",
            "-y\n",
            "    Answer yes to any questions instead of prompting.\n",
            "    Equivalent to: [--JupyterApp.answer_yes=True]\n",
            "--execute\n",
            "    Execute the notebook prior to export.\n",
            "    Equivalent to: [--ExecutePreprocessor.enabled=True]\n",
            "--allow-errors\n",
            "    Continue notebook execution even if one of the cells throws an error and include the error message in the cell output (the default behaviour is to abort conversion). This flag is only relevant if '--execute' was specified, too.\n",
            "    Equivalent to: [--ExecutePreprocessor.allow_errors=True]\n",
            "--stdin\n",
            "    read a single notebook file from stdin. Write the resulting notebook with default basename 'notebook.*'\n",
            "    Equivalent to: [--NbConvertApp.from_stdin=True]\n",
            "--stdout\n",
            "    Write notebook output to stdout instead of files.\n",
            "    Equivalent to: [--NbConvertApp.writer_class=StdoutWriter]\n",
            "--inplace\n",
            "    Run nbconvert in place, overwriting the existing notebook (only\n",
            "            relevant when converting to notebook format)\n",
            "    Equivalent to: [--NbConvertApp.use_output_suffix=False --NbConvertApp.export_format=notebook --FilesWriter.build_directory=]\n",
            "--clear-output\n",
            "    Clear output of current file and save in place,\n",
            "            overwriting the existing notebook.\n",
            "    Equivalent to: [--NbConvertApp.use_output_suffix=False --NbConvertApp.export_format=notebook --FilesWriter.build_directory= --ClearOutputPreprocessor.enabled=True]\n",
            "--no-prompt\n",
            "    Exclude input and output prompts from converted document.\n",
            "    Equivalent to: [--TemplateExporter.exclude_input_prompt=True --TemplateExporter.exclude_output_prompt=True]\n",
            "--no-input\n",
            "    Exclude input cells and output prompts from converted document.\n",
            "            This mode is ideal for generating code-free reports.\n",
            "    Equivalent to: [--TemplateExporter.exclude_output_prompt=True --TemplateExporter.exclude_input=True --TemplateExporter.exclude_input_prompt=True]\n",
            "--allow-chromium-download\n",
            "    Whether to allow downloading chromium if no suitable version is found on the system.\n",
            "    Equivalent to: [--WebPDFExporter.allow_chromium_download=True]\n",
            "--disable-chromium-sandbox\n",
            "    Disable chromium security sandbox when converting to PDF..\n",
            "    Equivalent to: [--WebPDFExporter.disable_sandbox=True]\n",
            "--show-input\n",
            "    Shows code input. This flag is only useful for dejavu users.\n",
            "    Equivalent to: [--TemplateExporter.exclude_input=False]\n",
            "--embed-images\n",
            "    Embed the images as base64 dataurls in the output. This flag is only useful for the HTML/WebPDF/Slides exports.\n",
            "    Equivalent to: [--HTMLExporter.embed_images=True]\n",
            "--sanitize-html\n",
            "    Whether the HTML in Markdown cells and cell outputs should be sanitized..\n",
            "    Equivalent to: [--HTMLExporter.sanitize_html=True]\n",
            "--log-level=<Enum>\n",
            "    Set the log level by value or name.\n",
            "    Choices: any of [0, 10, 20, 30, 40, 50, 'DEBUG', 'INFO', 'WARN', 'ERROR', 'CRITICAL']\n",
            "    Default: 30\n",
            "    Equivalent to: [--Application.log_level]\n",
            "--config=<Unicode>\n",
            "    Full path of a config file.\n",
            "    Default: ''\n",
            "    Equivalent to: [--JupyterApp.config_file]\n",
            "--to=<Unicode>\n",
            "    The export format to be used, either one of the built-in formats\n",
            "            ['asciidoc', 'custom', 'html', 'latex', 'markdown', 'notebook', 'pdf', 'python', 'rst', 'script', 'slides', 'webpdf']\n",
            "            or a dotted object name that represents the import path for an\n",
            "            ``Exporter`` class\n",
            "    Default: ''\n",
            "    Equivalent to: [--NbConvertApp.export_format]\n",
            "--template=<Unicode>\n",
            "    Name of the template to use\n",
            "    Default: ''\n",
            "    Equivalent to: [--TemplateExporter.template_name]\n",
            "--template-file=<Unicode>\n",
            "    Name of the template file to use\n",
            "    Default: None\n",
            "    Equivalent to: [--TemplateExporter.template_file]\n",
            "--theme=<Unicode>\n",
            "    Template specific theme(e.g. the name of a JupyterLab CSS theme distributed\n",
            "    as prebuilt extension for the lab template)\n",
            "    Default: 'light'\n",
            "    Equivalent to: [--HTMLExporter.theme]\n",
            "--sanitize_html=<Bool>\n",
            "    Whether the HTML in Markdown cells and cell outputs should be sanitized.This\n",
            "    should be set to True by nbviewer or similar tools.\n",
            "    Default: False\n",
            "    Equivalent to: [--HTMLExporter.sanitize_html]\n",
            "--writer=<DottedObjectName>\n",
            "    Writer class used to write the\n",
            "                                        results of the conversion\n",
            "    Default: 'FilesWriter'\n",
            "    Equivalent to: [--NbConvertApp.writer_class]\n",
            "--post=<DottedOrNone>\n",
            "    PostProcessor class used to write the\n",
            "                                        results of the conversion\n",
            "    Default: ''\n",
            "    Equivalent to: [--NbConvertApp.postprocessor_class]\n",
            "--output=<Unicode>\n",
            "    overwrite base name use for output files.\n",
            "                can only be used when converting one notebook at a time.\n",
            "    Default: ''\n",
            "    Equivalent to: [--NbConvertApp.output_base]\n",
            "--output-dir=<Unicode>\n",
            "    Directory to write output(s) to. Defaults\n",
            "                                  to output to the directory of each notebook. To recover\n",
            "                                  previous default behaviour (outputting to the current\n",
            "                                  working directory) use . as the flag value.\n",
            "    Default: ''\n",
            "    Equivalent to: [--FilesWriter.build_directory]\n",
            "--reveal-prefix=<Unicode>\n",
            "    The URL prefix for reveal.js (version 3.x).\n",
            "            This defaults to the reveal CDN, but can be any url pointing to a copy\n",
            "            of reveal.js.\n",
            "            For speaker notes to work, this must be a relative path to a local\n",
            "            copy of reveal.js: e.g., \"reveal.js\".\n",
            "            If a relative path is given, it must be a subdirectory of the\n",
            "            current directory (from which the server is run).\n",
            "            See the usage documentation\n",
            "            (https://nbconvert.readthedocs.io/en/latest/usage.html#reveal-js-html-slideshow)\n",
            "            for more details.\n",
            "    Default: ''\n",
            "    Equivalent to: [--SlidesExporter.reveal_url_prefix]\n",
            "--nbformat=<Enum>\n",
            "    The nbformat version to write.\n",
            "            Use this to downgrade notebooks.\n",
            "    Choices: any of [1, 2, 3, 4]\n",
            "    Default: 4\n",
            "    Equivalent to: [--NotebookExporter.nbformat_version]\n",
            "\n",
            "Examples\n",
            "--------\n",
            "\n",
            "    The simplest way to use nbconvert is\n",
            "\n",
            "            > jupyter nbconvert mynotebook.ipynb --to html\n",
            "\n",
            "            Options include ['asciidoc', 'custom', 'html', 'latex', 'markdown', 'notebook', 'pdf', 'python', 'rst', 'script', 'slides', 'webpdf'].\n",
            "\n",
            "            > jupyter nbconvert --to latex mynotebook.ipynb\n",
            "\n",
            "            Both HTML and LaTeX support multiple output templates. LaTeX includes\n",
            "            'base', 'article' and 'report'.  HTML includes 'basic', 'lab' and\n",
            "            'classic'. You can specify the flavor of the format used.\n",
            "\n",
            "            > jupyter nbconvert --to html --template lab mynotebook.ipynb\n",
            "\n",
            "            You can also pipe the output to stdout, rather than a file\n",
            "\n",
            "            > jupyter nbconvert mynotebook.ipynb --stdout\n",
            "\n",
            "            PDF is generated via latex\n",
            "\n",
            "            > jupyter nbconvert mynotebook.ipynb --to pdf\n",
            "\n",
            "            You can get (and serve) a Reveal.js-powered slideshow\n",
            "\n",
            "            > jupyter nbconvert myslides.ipynb --to slides --post serve\n",
            "\n",
            "            Multiple notebooks can be given at the command line in a couple of\n",
            "            different ways:\n",
            "\n",
            "            > jupyter nbconvert notebook*.ipynb\n",
            "            > jupyter nbconvert notebook1.ipynb notebook2.ipynb\n",
            "\n",
            "            or you can specify the notebooks list in a config file, containing::\n",
            "\n",
            "                c.NbConvertApp.notebooks = [\"my_notebook.ipynb\"]\n",
            "\n",
            "            > jupyter nbconvert --config mycfg.py\n",
            "\n",
            "To see all available configurables, use `--help-all`.\n",
            "\n"
          ]
        }
      ]
    },
    {
      "cell_type": "code",
      "source": [
        "!pip install --upgrade mkl==2023.0.0\n",
        "!pip install --upgrade numpy==1.21.1\n",
        "!pip install pymc3==3.11.5"
      ],
      "metadata": {
        "id": "7hkYz8J3eMMv",
        "colab": {
          "base_uri": "https://localhost:8080/",
          "height": 1000
        },
        "outputId": "47d9bfb8-5444-40b2-d8ba-80f9164ffb58"
      },
      "execution_count": null,
      "outputs": [
        {
          "output_type": "stream",
          "name": "stdout",
          "text": [
            "Looking in indexes: https://pypi.org/simple, https://us-python.pkg.dev/colab-wheels/public/simple/\n",
            "Requirement already satisfied: mkl==2023.0.0 in /usr/local/lib/python3.10/dist-packages (2023.0.0)\n",
            "Requirement already satisfied: intel-openmp==2023.* in /usr/local/lib/python3.10/dist-packages (from mkl==2023.0.0) (2023.1.0)\n",
            "Requirement already satisfied: tbb==2021.* in /usr/local/lib/python3.10/dist-packages (from mkl==2023.0.0) (2021.9.0)\n",
            "Looking in indexes: https://pypi.org/simple, https://us-python.pkg.dev/colab-wheels/public/simple/\n",
            "Requirement already satisfied: numpy==1.21.1 in /usr/local/lib/python3.10/dist-packages (1.21.1)\n",
            "Looking in indexes: https://pypi.org/simple, https://us-python.pkg.dev/colab-wheels/public/simple/\n",
            "Collecting pymc3==3.11.5\n",
            "  Using cached pymc3-3.11.5-py3-none-any.whl (872 kB)\n",
            "Collecting arviz>=0.11.0 (from pymc3==3.11.5)\n",
            "  Using cached arviz-0.15.1-py3-none-any.whl (1.6 MB)\n",
            "Requirement already satisfied: cachetools>=4.2.1 in /usr/local/lib/python3.10/dist-packages (from pymc3==3.11.5) (5.3.0)\n",
            "Requirement already satisfied: deprecat in /usr/local/lib/python3.10/dist-packages (from pymc3==3.11.5) (2.1.1)\n",
            "Requirement already satisfied: dill in /usr/local/lib/python3.10/dist-packages (from pymc3==3.11.5) (0.3.6)\n",
            "Requirement already satisfied: fastprogress>=0.2.0 in /usr/local/lib/python3.10/dist-packages (from pymc3==3.11.5) (1.0.3)\n",
            "Requirement already satisfied: numpy<1.22.2,>=1.15.0 in /usr/local/lib/python3.10/dist-packages (from pymc3==3.11.5) (1.21.1)\n",
            "Requirement already satisfied: pandas>=0.24.0 in /usr/local/lib/python3.10/dist-packages (from pymc3==3.11.5) (1.5.3)\n",
            "Requirement already satisfied: patsy>=0.5.1 in /usr/local/lib/python3.10/dist-packages (from pymc3==3.11.5) (0.5.3)\n",
            "Requirement already satisfied: scipy<1.8.0,>=1.7.3 in /usr/local/lib/python3.10/dist-packages (from pymc3==3.11.5) (1.7.3)\n",
            "Requirement already satisfied: semver>=2.13.0 in /usr/local/lib/python3.10/dist-packages (from pymc3==3.11.5) (3.0.0)\n",
            "Collecting theano-pymc==1.1.2 (from pymc3==3.11.5)\n",
            "  Using cached Theano_PyMC-1.1.2-py3-none-any.whl\n",
            "Requirement already satisfied: typing-extensions>=3.7.4 in /usr/local/lib/python3.10/dist-packages (from pymc3==3.11.5) (4.5.0)\n",
            "Requirement already satisfied: filelock in /usr/local/lib/python3.10/dist-packages (from theano-pymc==1.1.2->pymc3==3.11.5) (3.12.0)\n",
            "Requirement already satisfied: setuptools>=60.0.0 in /usr/local/lib/python3.10/dist-packages (from arviz>=0.11.0->pymc3==3.11.5) (67.7.2)\n",
            "Requirement already satisfied: matplotlib>=3.2 in /usr/local/lib/python3.10/dist-packages (from arviz>=0.11.0->pymc3==3.11.5) (3.7.1)\n",
            "INFO: pip is looking at multiple versions of arviz to determine which version is compatible with other requirements. This could take a while.\n",
            "Collecting arviz>=0.11.0 (from pymc3==3.11.5)\n",
            "  Using cached arviz-0.15.0-py3-none-any.whl (1.6 MB)\n",
            "  Using cached arviz-0.14.0-py3-none-any.whl (1.7 MB)\n",
            "  Using cached arviz-0.13.0-py3-none-any.whl (1.7 MB)\n",
            "  Using cached arviz-0.12.1-py3-none-any.whl (1.6 MB)\n",
            "Requirement already satisfied: packaging in /usr/local/lib/python3.10/dist-packages (from arviz>=0.11.0->pymc3==3.11.5) (23.1)\n",
            "Requirement already satisfied: xarray>=0.16.1 in /usr/local/lib/python3.10/dist-packages (from arviz>=0.11.0->pymc3==3.11.5) (2022.12.0)\n",
            "Requirement already satisfied: netcdf4 in /usr/local/lib/python3.10/dist-packages (from arviz>=0.11.0->pymc3==3.11.5) (1.6.3)\n",
            "Requirement already satisfied: xarray-einstats>=0.2 in /usr/local/lib/python3.10/dist-packages (from arviz>=0.11.0->pymc3==3.11.5) (0.5.1)\n",
            "Requirement already satisfied: python-dateutil>=2.8.1 in /usr/local/lib/python3.10/dist-packages (from pandas>=0.24.0->pymc3==3.11.5) (2.8.2)\n",
            "Requirement already satisfied: pytz>=2020.1 in /usr/local/lib/python3.10/dist-packages (from pandas>=0.24.0->pymc3==3.11.5) (2022.7.1)\n",
            "Requirement already satisfied: six in /usr/local/lib/python3.10/dist-packages (from patsy>=0.5.1->pymc3==3.11.5) (1.16.0)\n",
            "Requirement already satisfied: wrapt<2,>=1.10 in /usr/local/lib/python3.10/dist-packages (from deprecat->pymc3==3.11.5) (1.14.1)\n",
            "Requirement already satisfied: contourpy>=1.0.1 in /usr/local/lib/python3.10/dist-packages (from matplotlib>=3.2->arviz>=0.11.0->pymc3==3.11.5) (1.0.7)\n",
            "Requirement already satisfied: cycler>=0.10 in /usr/local/lib/python3.10/dist-packages (from matplotlib>=3.2->arviz>=0.11.0->pymc3==3.11.5) (0.11.0)\n",
            "Requirement already satisfied: fonttools>=4.22.0 in /usr/local/lib/python3.10/dist-packages (from matplotlib>=3.2->arviz>=0.11.0->pymc3==3.11.5) (4.39.3)\n",
            "Requirement already satisfied: kiwisolver>=1.0.1 in /usr/local/lib/python3.10/dist-packages (from matplotlib>=3.2->arviz>=0.11.0->pymc3==3.11.5) (1.4.4)\n",
            "Requirement already satisfied: pillow>=6.2.0 in /usr/local/lib/python3.10/dist-packages (from matplotlib>=3.2->arviz>=0.11.0->pymc3==3.11.5) (8.4.0)\n",
            "Requirement already satisfied: pyparsing>=2.3.1 in /usr/local/lib/python3.10/dist-packages (from matplotlib>=3.2->arviz>=0.11.0->pymc3==3.11.5) (3.0.9)\n",
            "Requirement already satisfied: cftime in /usr/local/lib/python3.10/dist-packages (from netcdf4->arviz>=0.11.0->pymc3==3.11.5) (1.6.2)\n",
            "Installing collected packages: theano-pymc, arviz, pymc3\n",
            "  Attempting uninstall: theano-pymc\n",
            "    Found existing installation: Theano-PyMC 1.0.11\n",
            "    Uninstalling Theano-PyMC-1.0.11:\n",
            "      Successfully uninstalled Theano-PyMC-1.0.11\n",
            "  Attempting uninstall: arviz\n",
            "    Found existing installation: arviz 0.10.0\n",
            "    Uninstalling arviz-0.10.0:\n",
            "      Successfully uninstalled arviz-0.10.0\n",
            "  Attempting uninstall: pymc3\n",
            "    Found existing installation: pymc3 3.10.0\n",
            "    Uninstalling pymc3-3.10.0:\n",
            "      Successfully uninstalled pymc3-3.10.0\n",
            "\u001b[31mERROR: pip's dependency resolver does not currently take into account all the packages that are installed. This behaviour is the source of the following dependency conflicts.\n",
            "pymc 5.1.2 requires arviz>=0.13.0, but you have arviz 0.12.1 which is incompatible.\u001b[0m\u001b[31m\n",
            "\u001b[0mSuccessfully installed arviz-0.12.1 pymc3-3.11.5 theano-pymc-1.1.2\n"
          ]
        },
        {
          "output_type": "display_data",
          "data": {
            "application/vnd.colab-display-data+json": {
              "pip_warning": {
                "packages": [
                  "theano"
                ]
              }
            }
          },
          "metadata": {}
        }
      ]
    },
    {
      "cell_type": "code",
      "source": [
        "!python --version\n",
        "!pip install pymc3==3.10\n",
        "!pip install arviz==0.10"
      ],
      "metadata": {
        "id": "A05ZzZ0_gRcA",
        "colab": {
          "base_uri": "https://localhost:8080/",
          "height": 1000
        },
        "outputId": "52785434-1e35-40c4-d0e9-d48ebebf4133"
      },
      "execution_count": null,
      "outputs": [
        {
          "output_type": "stream",
          "name": "stdout",
          "text": [
            "Python 3.10.11\n",
            "Looking in indexes: https://pypi.org/simple, https://us-python.pkg.dev/colab-wheels/public/simple/\n",
            "Collecting pymc3==3.10\n",
            "  Using cached pymc3-3.10.0-py3-none-any.whl (1.9 MB)\n",
            "Requirement already satisfied: arviz>=0.9.0 in /usr/local/lib/python3.10/dist-packages (from pymc3==3.10) (0.12.1)\n",
            "Collecting theano-pymc==1.0.11 (from pymc3==3.10)\n",
            "  Using cached Theano_PyMC-1.0.11-py3-none-any.whl\n",
            "Requirement already satisfied: numpy>=1.13.0 in /usr/local/lib/python3.10/dist-packages (from pymc3==3.10) (1.21.1)\n",
            "Requirement already satisfied: scipy>=0.18.1 in /usr/local/lib/python3.10/dist-packages (from pymc3==3.10) (1.7.3)\n",
            "Requirement already satisfied: pandas>=0.18.0 in /usr/local/lib/python3.10/dist-packages (from pymc3==3.10) (1.5.3)\n",
            "Requirement already satisfied: patsy>=0.5.1 in /usr/local/lib/python3.10/dist-packages (from pymc3==3.10) (0.5.3)\n",
            "Requirement already satisfied: fastprogress>=0.2.0 in /usr/local/lib/python3.10/dist-packages (from pymc3==3.10) (1.0.3)\n",
            "Requirement already satisfied: typing-extensions>=3.7.4 in /usr/local/lib/python3.10/dist-packages (from pymc3==3.10) (4.5.0)\n",
            "Requirement already satisfied: dill in /usr/local/lib/python3.10/dist-packages (from pymc3==3.10) (0.3.6)\n",
            "Requirement already satisfied: setuptools>=38.4 in /usr/local/lib/python3.10/dist-packages (from arviz>=0.9.0->pymc3==3.10) (67.7.2)\n",
            "Requirement already satisfied: matplotlib>=3.0 in /usr/local/lib/python3.10/dist-packages (from arviz>=0.9.0->pymc3==3.10) (3.7.1)\n",
            "Requirement already satisfied: packaging in /usr/local/lib/python3.10/dist-packages (from arviz>=0.9.0->pymc3==3.10) (23.1)\n",
            "Requirement already satisfied: xarray>=0.16.1 in /usr/local/lib/python3.10/dist-packages (from arviz>=0.9.0->pymc3==3.10) (2022.12.0)\n",
            "Requirement already satisfied: netcdf4 in /usr/local/lib/python3.10/dist-packages (from arviz>=0.9.0->pymc3==3.10) (1.6.3)\n",
            "Requirement already satisfied: xarray-einstats>=0.2 in /usr/local/lib/python3.10/dist-packages (from arviz>=0.9.0->pymc3==3.10) (0.5.1)\n",
            "Requirement already satisfied: python-dateutil>=2.8.1 in /usr/local/lib/python3.10/dist-packages (from pandas>=0.18.0->pymc3==3.10) (2.8.2)\n",
            "Requirement already satisfied: pytz>=2020.1 in /usr/local/lib/python3.10/dist-packages (from pandas>=0.18.0->pymc3==3.10) (2022.7.1)\n",
            "Requirement already satisfied: six in /usr/local/lib/python3.10/dist-packages (from patsy>=0.5.1->pymc3==3.10) (1.16.0)\n",
            "Requirement already satisfied: contourpy>=1.0.1 in /usr/local/lib/python3.10/dist-packages (from matplotlib>=3.0->arviz>=0.9.0->pymc3==3.10) (1.0.7)\n",
            "Requirement already satisfied: cycler>=0.10 in /usr/local/lib/python3.10/dist-packages (from matplotlib>=3.0->arviz>=0.9.0->pymc3==3.10) (0.11.0)\n",
            "Requirement already satisfied: fonttools>=4.22.0 in /usr/local/lib/python3.10/dist-packages (from matplotlib>=3.0->arviz>=0.9.0->pymc3==3.10) (4.39.3)\n",
            "Requirement already satisfied: kiwisolver>=1.0.1 in /usr/local/lib/python3.10/dist-packages (from matplotlib>=3.0->arviz>=0.9.0->pymc3==3.10) (1.4.4)\n",
            "Requirement already satisfied: pillow>=6.2.0 in /usr/local/lib/python3.10/dist-packages (from matplotlib>=3.0->arviz>=0.9.0->pymc3==3.10) (8.4.0)\n",
            "Requirement already satisfied: pyparsing>=2.3.1 in /usr/local/lib/python3.10/dist-packages (from matplotlib>=3.0->arviz>=0.9.0->pymc3==3.10) (3.0.9)\n",
            "Requirement already satisfied: cftime in /usr/local/lib/python3.10/dist-packages (from netcdf4->arviz>=0.9.0->pymc3==3.10) (1.6.2)\n",
            "Installing collected packages: theano-pymc, pymc3\n",
            "  Attempting uninstall: theano-pymc\n",
            "    Found existing installation: Theano-PyMC 1.1.2\n",
            "    Uninstalling Theano-PyMC-1.1.2:\n",
            "      Successfully uninstalled Theano-PyMC-1.1.2\n",
            "  Attempting uninstall: pymc3\n",
            "    Found existing installation: pymc3 3.11.5\n",
            "    Uninstalling pymc3-3.11.5:\n",
            "      Successfully uninstalled pymc3-3.11.5\n",
            "Successfully installed pymc3-3.10.0 theano-pymc-1.0.11\n"
          ]
        },
        {
          "output_type": "display_data",
          "data": {
            "application/vnd.colab-display-data+json": {
              "pip_warning": {
                "packages": [
                  "theano"
                ]
              }
            }
          },
          "metadata": {}
        },
        {
          "output_type": "stream",
          "name": "stdout",
          "text": [
            "Looking in indexes: https://pypi.org/simple, https://us-python.pkg.dev/colab-wheels/public/simple/\n",
            "Collecting arviz==0.10\n",
            "  Using cached arviz-0.10.0-py3-none-any.whl (1.5 MB)\n",
            "Requirement already satisfied: setuptools>=38.4 in /usr/local/lib/python3.10/dist-packages (from arviz==0.10) (67.7.2)\n",
            "Requirement already satisfied: matplotlib>=3.0 in /usr/local/lib/python3.10/dist-packages (from arviz==0.10) (3.7.1)\n",
            "Requirement already satisfied: numpy>=1.12 in /usr/local/lib/python3.10/dist-packages (from arviz==0.10) (1.21.1)\n",
            "Requirement already satisfied: scipy>=0.19 in /usr/local/lib/python3.10/dist-packages (from arviz==0.10) (1.7.3)\n",
            "Requirement already satisfied: packaging in /usr/local/lib/python3.10/dist-packages (from arviz==0.10) (23.1)\n",
            "Requirement already satisfied: pandas>=0.23 in /usr/local/lib/python3.10/dist-packages (from arviz==0.10) (1.5.3)\n",
            "Requirement already satisfied: xarray>=0.16.1 in /usr/local/lib/python3.10/dist-packages (from arviz==0.10) (2022.12.0)\n",
            "Requirement already satisfied: netcdf4 in /usr/local/lib/python3.10/dist-packages (from arviz==0.10) (1.6.3)\n",
            "Requirement already satisfied: contourpy>=1.0.1 in /usr/local/lib/python3.10/dist-packages (from matplotlib>=3.0->arviz==0.10) (1.0.7)\n",
            "Requirement already satisfied: cycler>=0.10 in /usr/local/lib/python3.10/dist-packages (from matplotlib>=3.0->arviz==0.10) (0.11.0)\n",
            "Requirement already satisfied: fonttools>=4.22.0 in /usr/local/lib/python3.10/dist-packages (from matplotlib>=3.0->arviz==0.10) (4.39.3)\n",
            "Requirement already satisfied: kiwisolver>=1.0.1 in /usr/local/lib/python3.10/dist-packages (from matplotlib>=3.0->arviz==0.10) (1.4.4)\n",
            "Requirement already satisfied: pillow>=6.2.0 in /usr/local/lib/python3.10/dist-packages (from matplotlib>=3.0->arviz==0.10) (8.4.0)\n",
            "Requirement already satisfied: pyparsing>=2.3.1 in /usr/local/lib/python3.10/dist-packages (from matplotlib>=3.0->arviz==0.10) (3.0.9)\n",
            "Requirement already satisfied: python-dateutil>=2.7 in /usr/local/lib/python3.10/dist-packages (from matplotlib>=3.0->arviz==0.10) (2.8.2)\n",
            "Requirement already satisfied: pytz>=2020.1 in /usr/local/lib/python3.10/dist-packages (from pandas>=0.23->arviz==0.10) (2022.7.1)\n",
            "Requirement already satisfied: cftime in /usr/local/lib/python3.10/dist-packages (from netcdf4->arviz==0.10) (1.6.2)\n",
            "Requirement already satisfied: six>=1.5 in /usr/local/lib/python3.10/dist-packages (from python-dateutil>=2.7->matplotlib>=3.0->arviz==0.10) (1.16.0)\n",
            "Installing collected packages: arviz\n",
            "  Attempting uninstall: arviz\n",
            "    Found existing installation: arviz 0.12.1\n",
            "    Uninstalling arviz-0.12.1:\n",
            "      Successfully uninstalled arviz-0.12.1\n",
            "\u001b[31mERROR: pip's dependency resolver does not currently take into account all the packages that are installed. This behaviour is the source of the following dependency conflicts.\n",
            "pymc 5.1.2 requires arviz>=0.13.0, but you have arviz 0.10.0 which is incompatible.\u001b[0m\u001b[31m\n",
            "\u001b[0mSuccessfully installed arviz-0.10.0\n"
          ]
        }
      ]
    },
    {
      "cell_type": "code",
      "execution_count": null,
      "metadata": {
        "id": "WDSKHdDceDxJ"
      },
      "outputs": [],
      "source": [
        "import pymc3 as pm\n",
        "import arviz as az"
      ]
    },
    {
      "cell_type": "code",
      "source": [
        "import warnings\n",
        "\n",
        "import arviz as az\n",
        "import matplotlib.pyplot as plt\n",
        "import numpy as np\n",
        "import pymc3 as pm\n",
        "import theano.tensor as tt\n",
        "# import seaborn as sns\n",
        "from scipy import stats\n",
        "import seaborn as sns\n",
        "\n",
        "warnings.simplefilter(action=\"ignore\", category=FutureWarning)\n",
        "\n",
        "%config InlineBackend.figure_format = 'retina'\n",
        "az.style.use(\"arviz-darkgrid\")\n",
        "print(f\"Running on PyMC3 v{pm.__version__}\")\n",
        "print(f\"Running on ArviZ v{az.__version__}\")\n"
      ],
      "metadata": {
        "colab": {
          "base_uri": "https://localhost:8080/"
        },
        "id": "MgmWhjALgz8m",
        "outputId": "3230c52e-45b8-4afc-aafe-b8d8bccae469"
      },
      "execution_count": null,
      "outputs": [
        {
          "output_type": "stream",
          "name": "stdout",
          "text": [
            "Running on PyMC3 v3.11.5\n",
            "Running on ArviZ v0.12.1\n"
          ]
        }
      ]
    },
    {
      "cell_type": "code",
      "execution_count": null,
      "metadata": {
        "id": "XYXMPnm5eDxK",
        "outputId": "b8858592-6cc0-46bc-ef01-96cd3edc8c41"
      },
      "outputs": [
        {
          "name": "stderr",
          "output_type": "stream",
          "text": [
            "Auto-assigning NUTS sampler...\n",
            "Initializing NUTS using jitter+adapt_diag...\n",
            "Multiprocess sampling (4 chains in 4 jobs)\n",
            "NUTS: [theta]\n"
          ]
        },
        {
          "data": {
            "text/html": [
              "\n",
              "    <div>\n",
              "        <style>\n",
              "            /* Turns off some styling */\n",
              "            progress {\n",
              "                /* gets rid of default border in Firefox and Opera. */\n",
              "                border: none;\n",
              "                /* Needs to be in here for Safari polyfill so background images work as expected. */\n",
              "                background-size: auto;\n",
              "            }\n",
              "            .progress-bar-interrupted, .progress-bar-interrupted::-webkit-progress-bar {\n",
              "                background: #F44336;\n",
              "            }\n",
              "        </style>\n",
              "      <progress value='44000' class='' max='44000' style='width:300px; height:20px; vertical-align: middle;'></progress>\n",
              "      100.00% [44000/44000 00:57<00:00 Sampling 4 chains, 0 divergences]\n",
              "    </div>\n",
              "    "
            ],
            "text/plain": [
              "<IPython.core.display.HTML object>"
            ]
          },
          "metadata": {},
          "output_type": "display_data"
        },
        {
          "name": "stderr",
          "output_type": "stream",
          "text": [
            "Sampling 4 chains for 1_000 tune and 10_000 draw iterations (4_000 + 40_000 draws total) took 77 seconds.\n",
            "The acceptance probability does not match the target. It is 0.5591206347418158, but should be close to 0.8. Try to increase the number of tuning steps.\n",
            "The acceptance probability does not match the target. It is 0.8869751249580462, but should be close to 0.8. Try to increase the number of tuning steps.\n",
            "The acceptance probability does not match the target. It is 0.6365985480511342, but should be close to 0.8. Try to increase the number of tuning steps.\n"
          ]
        },
        {
          "data": {
            "image/png": "[encoded data removed]",
            "text/plain": [
              "<Figure size 864x144 with 2 Axes>"
            ]
          },
          "metadata": {
            "needs_background": "light"
          },
          "output_type": "display_data"
        }
      ],
      "source": [
        "with pm.Model() as model:\n",
        "    \n",
        "    # Priors for unknown model parameters\n",
        "    theta = pm.Uniform(........)\n",
        "    \n",
        "    # Likelihood\n",
        "    x = pm.Binomial(.........)\n",
        "\n",
        "    # Posterior\n",
        "    # draw 10000 posterior samples\n",
        "    trace = pm.sample(.........)\n",
        "    \n",
        "    # Plot the trace plot\n",
        "    az.____(____)"
      ]
    },
    {
      "cell_type": "code",
      "source": [
        "with pm.Model() as model:\n",
        "    \n",
        "    # Priors for unknown model parameters\n",
        "    theta = pm.Uniform(name=\"theta\", lower=0.10, upper=0.40)\n",
        "    \n",
        "    # Likelihood\n",
        "    x = pm.Binomial(name=\"x\", p=theta, n=100, observed=15)\n",
        "\n",
        "    # Posterior\n",
        "    # draw 10000 posterior samples\n",
        "    trace = pm.sample(draws=10000, tune=1000, chains=4)\n",
        "    \n",
        "    # Plot the trace plot\n",
        "    az.plot_trace(trace)"
      ],
      "metadata": {
        "colab": {
          "base_uri": "https://localhost:8080/",
          "height": 325
        },
        "id": "l2N9MbMdVnUg",
        "outputId": "6999b086-f2fd-49ee-ae3a-92a763d668d0"
      },
      "execution_count": null,
      "outputs": [
        {
          "output_type": "display_data",
          "data": {
            "text/plain": [
              "<IPython.core.display.HTML object>"
            ],
            "text/html": [
              "\n",
              "<style>\n",
              "    /* Turns off some styling */\n",
              "    progress {\n",
              "        /* gets rid of default border in Firefox and Opera. */\n",
              "        border: none;\n",
              "        /* Needs to be in here for Safari polyfill so background images work as expected. */\n",
              "        background-size: auto;\n",
              "    }\n",
              "    progress:not([value]), progress:not([value])::-webkit-progress-bar {\n",
              "        background: repeating-linear-gradient(45deg, #7e7e7e, #7e7e7e 10px, #5c5c5c 10px, #5c5c5c 20px);\n",
              "    }\n",
              "    .progress-bar-interrupted, .progress-bar-interrupted::-webkit-progress-bar {\n",
              "        background: #F44336;\n",
              "    }\n",
              "</style>\n"
            ]
          },
          "metadata": {}
        },
        {
          "output_type": "display_data",
          "data": {
            "text/plain": [
              "<IPython.core.display.HTML object>"
            ],
            "text/html": [
              "\n",
              "    <div>\n",
              "      <progress value='11000' class='' max='11000' style='width:300px; height:20px; vertical-align: middle;'></progress>\n",
              "      100.00% [11000/11000 00:08&lt;00:00 Sampling chain 0, 0 divergences]\n",
              "    </div>\n",
              "    "
            ]
          },
          "metadata": {}
        },
        {
          "output_type": "display_data",
          "data": {
            "text/plain": [
              "<IPython.core.display.HTML object>"
            ],
            "text/html": [
              "\n",
              "<style>\n",
              "    /* Turns off some styling */\n",
              "    progress {\n",
              "        /* gets rid of default border in Firefox and Opera. */\n",
              "        border: none;\n",
              "        /* Needs to be in here for Safari polyfill so background images work as expected. */\n",
              "        background-size: auto;\n",
              "    }\n",
              "    progress:not([value]), progress:not([value])::-webkit-progress-bar {\n",
              "        background: repeating-linear-gradient(45deg, #7e7e7e, #7e7e7e 10px, #5c5c5c 10px, #5c5c5c 20px);\n",
              "    }\n",
              "    .progress-bar-interrupted, .progress-bar-interrupted::-webkit-progress-bar {\n",
              "        background: #F44336;\n",
              "    }\n",
              "</style>\n"
            ]
          },
          "metadata": {}
        },
        {
          "output_type": "display_data",
          "data": {
            "text/plain": [
              "<IPython.core.display.HTML object>"
            ],
            "text/html": [
              "\n",
              "    <div>\n",
              "      <progress value='11000' class='' max='11000' style='width:300px; height:20px; vertical-align: middle;'></progress>\n",
              "      100.00% [11000/11000 00:04&lt;00:00 Sampling chain 1, 0 divergences]\n",
              "    </div>\n",
              "    "
            ]
          },
          "metadata": {}
        },
        {
          "output_type": "display_data",
          "data": {
            "text/plain": [
              "<IPython.core.display.HTML object>"
            ],
            "text/html": [
              "\n",
              "<style>\n",
              "    /* Turns off some styling */\n",
              "    progress {\n",
              "        /* gets rid of default border in Firefox and Opera. */\n",
              "        border: none;\n",
              "        /* Needs to be in here for Safari polyfill so background images work as expected. */\n",
              "        background-size: auto;\n",
              "    }\n",
              "    progress:not([value]), progress:not([value])::-webkit-progress-bar {\n",
              "        background: repeating-linear-gradient(45deg, #7e7e7e, #7e7e7e 10px, #5c5c5c 10px, #5c5c5c 20px);\n",
              "    }\n",
              "    .progress-bar-interrupted, .progress-bar-interrupted::-webkit-progress-bar {\n",
              "        background: #F44336;\n",
              "    }\n",
              "</style>\n"
            ]
          },
          "metadata": {}
        },
        {
          "output_type": "display_data",
          "data": {
            "text/plain": [
              "<IPython.core.display.HTML object>"
            ],
            "text/html": [
              "\n",
              "    <div>\n",
              "      <progress value='11000' class='' max='11000' style='width:300px; height:20px; vertical-align: middle;'></progress>\n",
              "      100.00% [11000/11000 00:06&lt;00:00 Sampling chain 2, 0 divergences]\n",
              "    </div>\n",
              "    "
            ]
          },
          "metadata": {}
        },
        {
          "output_type": "display_data",
          "data": {
            "text/plain": [
              "<IPython.core.display.HTML object>"
            ],
            "text/html": [
              "\n",
              "<style>\n",
              "    /* Turns off some styling */\n",
              "    progress {\n",
              "        /* gets rid of default border in Firefox and Opera. */\n",
              "        border: none;\n",
              "        /* Needs to be in here for Safari polyfill so background images work as expected. */\n",
              "        background-size: auto;\n",
              "    }\n",
              "    progress:not([value]), progress:not([value])::-webkit-progress-bar {\n",
              "        background: repeating-linear-gradient(45deg, #7e7e7e, #7e7e7e 10px, #5c5c5c 10px, #5c5c5c 20px);\n",
              "    }\n",
              "    .progress-bar-interrupted, .progress-bar-interrupted::-webkit-progress-bar {\n",
              "        background: #F44336;\n",
              "    }\n",
              "</style>\n"
            ]
          },
          "metadata": {}
        },
        {
          "output_type": "display_data",
          "data": {
            "text/plain": [
              "<IPython.core.display.HTML object>"
            ],
            "text/html": [
              "\n",
              "    <div>\n",
              "      <progress value='11000' class='' max='11000' style='width:300px; height:20px; vertical-align: middle;'></progress>\n",
              "      100.00% [11000/11000 00:04&lt;00:00 Sampling chain 3, 0 divergences]\n",
              "    </div>\n",
              "    "
            ]
          },
          "metadata": {}
        },
        {
          "output_type": "stream",
          "name": "stderr",
          "text": [
            "WARNING:pymc3:The acceptance probability does not match the target. It is 0.8816494344404686, but should be close to 0.8. Try to increase the number of tuning steps.\n"
          ]
        },
        {
          "output_type": "display_data",
          "data": {
            "text/plain": [
              "<Figure size 1200x200 with 2 Axes>"
            ],
            "image/png": "[encoded data removed]"
          },
          "metadata": {
            "image/png": {
              "width": 1211,
              "height": 211
            }
          }
        }
      ]
    },
    {
      "cell_type": "code",
      "source": [
        "with pm.Model() as model:\n",
        "    \n",
        "    # Priors for unknown model parameters\n",
        "    theta = pm.Uniform(name=\"theta\", lower=0.10, upper=0.40)\n",
        "    \n",
        "    # Likelihood\n",
        "    x = pm.Binomial(name=\"x\", p=theta, n=100, observed=15)\n",
        "\n",
        "    # Posterior\n",
        "    # draw 10000 posterior samples\n",
        "    trace = pm.sample(draws=10000, tune=1000, chains=4)\n",
        "    \n",
        "    # Plot the trace plot\n",
        "    az.plot_trace(trace)"
      ],
      "metadata": {
        "colab": {
          "base_uri": "https://localhost:8080/",
          "height": 325
        },
        "id": "BxWmD8hLhYpz",
        "outputId": "fbd9e991-76f7-4af1-caff-a97732eaaba0"
      },
      "execution_count": null,
      "outputs": [
        {
          "output_type": "display_data",
          "data": {
            "text/plain": [
              "<IPython.core.display.HTML object>"
            ],
            "text/html": [
              "\n",
              "<style>\n",
              "    /* Turns off some styling */\n",
              "    progress {\n",
              "        /* gets rid of default border in Firefox and Opera. */\n",
              "        border: none;\n",
              "        /* Needs to be in here for Safari polyfill so background images work as expected. */\n",
              "        background-size: auto;\n",
              "    }\n",
              "    progress:not([value]), progress:not([value])::-webkit-progress-bar {\n",
              "        background: repeating-linear-gradient(45deg, #7e7e7e, #7e7e7e 10px, #5c5c5c 10px, #5c5c5c 20px);\n",
              "    }\n",
              "    .progress-bar-interrupted, .progress-bar-interrupted::-webkit-progress-bar {\n",
              "        background: #F44336;\n",
              "    }\n",
              "</style>\n"
            ]
          },
          "metadata": {}
        },
        {
          "output_type": "display_data",
          "data": {
            "text/plain": [
              "<IPython.core.display.HTML object>"
            ],
            "text/html": [
              "\n",
              "    <div>\n",
              "      <progress value='11000' class='' max='11000' style='width:300px; height:20px; vertical-align: middle;'></progress>\n",
              "      100.00% [11000/11000 00:06&lt;00:00 Sampling chain 0, 0 divergences]\n",
              "    </div>\n",
              "    "
            ]
          },
          "metadata": {}
        },
        {
          "output_type": "display_data",
          "data": {
            "text/plain": [
              "<IPython.core.display.HTML object>"
            ],
            "text/html": [
              "\n",
              "<style>\n",
              "    /* Turns off some styling */\n",
              "    progress {\n",
              "        /* gets rid of default border in Firefox and Opera. */\n",
              "        border: none;\n",
              "        /* Needs to be in here for Safari polyfill so background images work as expected. */\n",
              "        background-size: auto;\n",
              "    }\n",
              "    progress:not([value]), progress:not([value])::-webkit-progress-bar {\n",
              "        background: repeating-linear-gradient(45deg, #7e7e7e, #7e7e7e 10px, #5c5c5c 10px, #5c5c5c 20px);\n",
              "    }\n",
              "    .progress-bar-interrupted, .progress-bar-interrupted::-webkit-progress-bar {\n",
              "        background: #F44336;\n",
              "    }\n",
              "</style>\n"
            ]
          },
          "metadata": {}
        },
        {
          "output_type": "display_data",
          "data": {
            "text/plain": [
              "<IPython.core.display.HTML object>"
            ],
            "text/html": [
              "\n",
              "    <div>\n",
              "      <progress value='11000' class='' max='11000' style='width:300px; height:20px; vertical-align: middle;'></progress>\n",
              "      100.00% [11000/11000 00:04&lt;00:00 Sampling chain 1, 0 divergences]\n",
              "    </div>\n",
              "    "
            ]
          },
          "metadata": {}
        },
        {
          "output_type": "display_data",
          "data": {
            "text/plain": [
              "<IPython.core.display.HTML object>"
            ],
            "text/html": [
              "\n",
              "<style>\n",
              "    /* Turns off some styling */\n",
              "    progress {\n",
              "        /* gets rid of default border in Firefox and Opera. */\n",
              "        border: none;\n",
              "        /* Needs to be in here for Safari polyfill so background images work as expected. */\n",
              "        background-size: auto;\n",
              "    }\n",
              "    progress:not([value]), progress:not([value])::-webkit-progress-bar {\n",
              "        background: repeating-linear-gradient(45deg, #7e7e7e, #7e7e7e 10px, #5c5c5c 10px, #5c5c5c 20px);\n",
              "    }\n",
              "    .progress-bar-interrupted, .progress-bar-interrupted::-webkit-progress-bar {\n",
              "        background: #F44336;\n",
              "    }\n",
              "</style>\n"
            ]
          },
          "metadata": {}
        },
        {
          "output_type": "display_data",
          "data": {
            "text/plain": [
              "<IPython.core.display.HTML object>"
            ],
            "text/html": [
              "\n",
              "    <div>\n",
              "      <progress value='11000' class='' max='11000' style='width:300px; height:20px; vertical-align: middle;'></progress>\n",
              "      100.00% [11000/11000 00:06&lt;00:00 Sampling chain 2, 0 divergences]\n",
              "    </div>\n",
              "    "
            ]
          },
          "metadata": {}
        },
        {
          "output_type": "display_data",
          "data": {
            "text/plain": [
              "<IPython.core.display.HTML object>"
            ],
            "text/html": [
              "\n",
              "<style>\n",
              "    /* Turns off some styling */\n",
              "    progress {\n",
              "        /* gets rid of default border in Firefox and Opera. */\n",
              "        border: none;\n",
              "        /* Needs to be in here for Safari polyfill so background images work as expected. */\n",
              "        background-size: auto;\n",
              "    }\n",
              "    progress:not([value]), progress:not([value])::-webkit-progress-bar {\n",
              "        background: repeating-linear-gradient(45deg, #7e7e7e, #7e7e7e 10px, #5c5c5c 10px, #5c5c5c 20px);\n",
              "    }\n",
              "    .progress-bar-interrupted, .progress-bar-interrupted::-webkit-progress-bar {\n",
              "        background: #F44336;\n",
              "    }\n",
              "</style>\n"
            ]
          },
          "metadata": {}
        },
        {
          "output_type": "display_data",
          "data": {
            "text/plain": [
              "<IPython.core.display.HTML object>"
            ],
            "text/html": [
              "\n",
              "    <div>\n",
              "      <progress value='11000' class='' max='11000' style='width:300px; height:20px; vertical-align: middle;'></progress>\n",
              "      100.00% [11000/11000 00:05&lt;00:00 Sampling chain 3, 0 divergences]\n",
              "    </div>\n",
              "    "
            ]
          },
          "metadata": {}
        },
        {
          "output_type": "stream",
          "name": "stderr",
          "text": [
            "WARNING:pymc3:The acceptance probability does not match the target. It is 0.8795244467764692, but should be close to 0.8. Try to increase the number of tuning steps.\n"
          ]
        },
        {
          "output_type": "display_data",
          "data": {
            "text/plain": [
              "<Figure size 1200x200 with 2 Axes>"
            ],
            "image/png": "[encoded data removed]"
          },
          "metadata": {
            "image/png": {
              "width": 1211,
              "height": 211
            }
          }
        }
      ]
    },
    {
      "cell_type": "markdown",
      "metadata": {
        "id": "1ZlxiXMteDxL"
      },
      "source": [
        "### Plot the posterior distribution plot of $ \\theta $\n",
        "- What is the mean posterior value?"
      ]
    },
    {
      "cell_type": "code",
      "execution_count": null,
      "metadata": {
        "id": "am79gSMueDxL",
        "outputId": "95973dc3-90da-40e0-deea-80168dbd1f50"
      },
      "outputs": [
        {
          "name": "stderr",
          "output_type": "stream",
          "text": [
            "C:\\Users\\ilyas\\Anaconda3\\envs\\data_science\\lib\\site-packages\\arviz\\data\\io_pymc3.py:91: FutureWarning: Using `from_pymc3` without the model will be deprecated in a future release. Not using the model will return less accurate and less useful results. Make sure you use the model argument or call from_pymc3 within a model context.\n",
            "  FutureWarning,\n"
          ]
        },
        {
          "data": {
            "text/plain": [
              "<AxesSubplot:title={'center':'theta'}>"
            ]
          },
          "execution_count": 115,
          "metadata": {},
          "output_type": "execute_result"
        },
        {
          "data": {
            "image/png": "[encoded data removed]",
            "text/plain": [
              "<Figure size 432x288 with 1 Axes>"
            ]
          },
          "metadata": {
            "needs_background": "light"
          },
          "output_type": "display_data"
        }
      ],
      "source": [
        "# Plot the posterior of trace\n",
        "az.____(____);"
      ]
    },
    {
      "cell_type": "code",
      "source": [
        "# Plot the posterior of trace\n",
        "az.plot_posterior(trace);"
      ],
      "metadata": {
        "colab": {
          "base_uri": "https://localhost:8080/",
          "height": 508
        },
        "id": "jaXswoezjsJI",
        "outputId": "31ee42b1-5718-44d1-961c-a955ab23f54c"
      },
      "execution_count": null,
      "outputs": [
        {
          "output_type": "display_data",
          "data": {
            "text/plain": [
              "<Figure size 720x480 with 1 Axes>"
            ],
            "image/png": "[encoded data removed]"
          },
          "metadata": {
            "image/png": {
              "width": 731,
              "height": 491
            }
          }
        }
      ]
    },
    {
      "cell_type": "markdown",
      "metadata": {
        "id": "Tm74b7HleDxL"
      },
      "source": [
        "\n",
        "## Bayesian Network Analysis\n",
        "\n",
        "In this part we will be analyzing medical diagnosis using Bayes Nets. The structure and the Conditional Probabability Distribution tables are shown in the figure below."
      ]
    },
    {
      "cell_type": "markdown",
      "metadata": {
        "id": "EV1lAeU7eDxL"
      },
      "source": [
        "![MedicalDiagnosis](Med-diag-bnet.jpg)"
      ]
    },
    {
      "cell_type": "markdown",
      "metadata": {
        "id": "T4zmodyLeDxL"
      },
      "source": [
        "- In the first few questions you will build the Bayes Net, set up the Conditional Probability Distribution tables, and associate the CPDs to the network.   \n",
        "- These steps are extremely important and crucial. Make sure you do the set up correctly, as everything else depends on that.   "
      ]
    },
    {
      "cell_type": "markdown",
      "metadata": {
        "id": "RAdlgCXFeDxL"
      },
      "source": [
        "## Import Libraries\n",
        "\n",
        "**Import the usual libraries for pandas and plotting, and sklearn.**"
      ]
    },
    {
      "cell_type": "code",
      "execution_count": null,
      "metadata": {
        "id": "W8roFS5ieDxL"
      },
      "outputs": [],
      "source": [
        "import pandas as pd\n",
        "import numpy as np\n",
        "import matplotlib.pyplot as plt\n",
        "import seaborn as sns\n",
        "\n",
        "from sklearn import metrics"
      ]
    },
    {
      "cell_type": "code",
      "execution_count": null,
      "metadata": {
        "id": "s4DnPwHueDxM"
      },
      "outputs": [],
      "source": [
        "# import pgmpy\n",
        "from pgmpy.models import BayesianModel\n",
        "from pgmpy.factors.discrete import TabularCPD"
      ]
    },
    {
      "cell_type": "code",
      "execution_count": null,
      "metadata": {
        "id": "DIwmuiP5eDxM",
        "outputId": "f3629c0e-e651-4fad-b70f-7f243952a314",
        "colab": {
          "base_uri": "https://localhost:8080/",
          "height": 35
        }
      },
      "outputs": [
        {
          "output_type": "execute_result",
          "data": {
            "text/plain": [
              "'1.2.2'"
            ],
            "application/vnd.google.colaboratory.intrinsic+json": {
              "type": "string"
            }
          },
          "metadata": {},
          "execution_count": 21
        }
      ],
      "source": [
        "import sklearn\n",
        "sklearn.__version__"
      ]
    },
    {
      "cell_type": "markdown",
      "metadata": {
        "id": "wMnqgQQ_eDxM"
      },
      "source": [
        "### These are the packages I used"
      ]
    },
    {
      "cell_type": "code",
      "execution_count": null,
      "metadata": {
        "id": "3ECUdMyueDxM"
      },
      "outputs": [],
      "source": [
        "# Your package imports here"
      ]
    },
    {
      "cell_type": "code",
      "execution_count": null,
      "metadata": {
        "id": "bhvM3IZ0eDxM"
      },
      "outputs": [],
      "source": []
    },
    {
      "cell_type": "markdown",
      "metadata": {
        "id": "zngi4nXseDxM"
      },
      "source": [
        "## Q2 [10]\n",
        "\n",
        "**Define the model structure.** \n",
        "\n",
        "You need to define the network by passing a list of edges. "
      ]
    },
    {
      "cell_type": "code",
      "execution_count": null,
      "metadata": {
        "id": "V6r3ZhfHeDxM"
      },
      "outputs": [],
      "source": [
        "model = BayesianModel([('Smokes', 'LungDisease'), ('LungDisease', 'ShortnessBreath'), ('LungDisease', 'ChestPain'), ('LungDisease', 'Cough'), ('Cold', 'Cough'), ('Cold', 'Fever')])"
      ]
    },
    {
      "cell_type": "code",
      "execution_count": null,
      "metadata": {
        "id": "Y8VCRV9ueDxM",
        "colab": {
          "base_uri": "https://localhost:8080/"
        },
        "outputId": "211ba46c-4f19-4e19-9667-84747a31d840"
      },
      "outputs": [
        {
          "output_type": "execute_result",
          "data": {
            "text/plain": [
              "NodeView(('Smokes', 'LungDisease', 'ShortnessBreath', 'ChestPain', 'Cough', 'Cold', 'Fever'))"
            ]
          },
          "metadata": {},
          "execution_count": 23
        }
      ],
      "source": [
        "# Your code\n",
        "# model = BayesianModel([('Smokes', 'LungDisease'),.........])\n",
        "\n",
        "model.nodes()"
      ]
    },
    {
      "cell_type": "code",
      "source": [
        "model.edges()"
      ],
      "metadata": {
        "colab": {
          "base_uri": "https://localhost:8080/"
        },
        "id": "FzOBIzqqQEBv",
        "outputId": "e4989ca2-3185-4827-d3b5-b1742fb9cb7f"
      },
      "execution_count": null,
      "outputs": [
        {
          "output_type": "execute_result",
          "data": {
            "text/plain": [
              "OutEdgeView([('Smokes', 'LungDisease'), ('LungDisease', 'ShortnessBreath'), ('LungDisease', 'ChestPain'), ('LungDisease', 'Cough'), ('Cold', 'Cough'), ('Cold', 'Fever')])"
            ]
          },
          "metadata": {},
          "execution_count": 24
        }
      ]
    },
    {
      "cell_type": "markdown",
      "metadata": {
        "id": "rOyd0pvTeDxM"
      },
      "source": [
        "## Q3 [15] \n",
        "\n",
        "**Define individual CPDs**\n",
        "- Define the CPDs using the state names of the variables. "
      ]
    },
    {
      "cell_type": "code",
      "execution_count": null,
      "metadata": {
        "scrolled": true,
        "id": "Et2PDgmKeDxN",
        "outputId": "1a4d4136-9b24-4687-b6a5-2f187069e97a",
        "colab": {
          "base_uri": "https://localhost:8080/"
        }
      },
      "outputs": [
        {
          "output_type": "stream",
          "name": "stdout",
          "text": [
            "+-----------+-----+\n",
            "| Smokes(T) | 0.2 |\n",
            "+-----------+-----+\n",
            "| Smokes(F) | 0.8 |\n",
            "+-----------+-----+\n",
            "+----------------+-----------+-----------+\n",
            "| Smokes         | Smokes(T) | Smokes(F) |\n",
            "+----------------+-----------+-----------+\n",
            "| LungDisease(T) | 0.1009    | 0.001     |\n",
            "+----------------+-----------+-----------+\n",
            "| LungDisease(F) | 0.8991    | 0.999     |\n",
            "+----------------+-----------+-----------+\n"
          ]
        }
      ],
      "source": [
        "cpd_Smokes = TabularCPD(variable='Smokes', variable_card=2, values=[[0.2], [0.8]], state_names={'Smokes' : ['T', 'F']})\n",
        "print(cpd_Smokes)\n",
        "\n",
        "\n",
        "cpd_LungDisease = TabularCPD(variable='LungDisease', \n",
        "                             variable_card=2, \n",
        "                             values=[[0.1009, 0.001],\n",
        "                                     [0.8991, 0.999]],\n",
        "                             evidence=['Smokes'],\n",
        "                             evidence_card=[2],\n",
        "                            state_names={'Smokes' : ['T', 'F'], 'LungDisease' : ['T', 'F']})\n",
        "print(cpd_LungDisease)\n",
        "\n"
      ]
    },
    {
      "cell_type": "code",
      "execution_count": null,
      "metadata": {
        "id": "krRcowmKeDxN",
        "colab": {
          "base_uri": "https://localhost:8080/"
        },
        "outputId": "91ec36cc-5d37-425e-9c2a-3aedb39bef2a"
      },
      "outputs": [
        {
          "output_type": "stream",
          "name": "stdout",
          "text": [
            "+--------------------+----------------+----------------+\n",
            "| LungDisease        | LungDisease(T) | LungDisease(F) |\n",
            "+--------------------+----------------+----------------+\n",
            "| ShortnessBreath(T) | 0.208          | 0.01           |\n",
            "+--------------------+----------------+----------------+\n",
            "| ShortnessBreath(F) | 0.791          | 0.99           |\n",
            "+--------------------+----------------+----------------+\n",
            "+--------------+----------------+----------------+\n",
            "| LungDisease  | LungDisease(T) | LungDisease(F) |\n",
            "+--------------+----------------+----------------+\n",
            "| ChestPain(T) | 0.208          | 0.01           |\n",
            "+--------------+----------------+----------------+\n",
            "| ChestPain(F) | 0.792          | 0.99           |\n",
            "+--------------+----------------+----------------+\n"
          ]
        }
      ],
      "source": [
        "# Your code\n",
        "cpd_ShortnessBreath =TabularCPD(variable='ShortnessBreath',\n",
        "                                variable_card=2,\n",
        "                                values=[[0.208, 0.01],\n",
        "                                        [0.791, 0.99]],\n",
        "                                evidence=['LungDisease'],\n",
        "                                evidence_card=[2],\n",
        "                                state_names={'ShortnessBreath':['T','F'], 'LungDisease':['T','F']})\n",
        "print(cpd_ShortnessBreath)\n",
        "\n",
        "cpd_ChestPain = TabularCPD(variable = 'ChestPain',\n",
        "                           variable_card =2, \n",
        "                           values=[[0.208, 0.01],\n",
        "                                   [0.792, 0.99]],\n",
        "                           evidence=['LungDisease'],\n",
        "                           evidence_card=[2],\n",
        "                           state_names={'ChestPain':['T','F'], 'LungDisease':['T','F']})\n",
        "print(cpd_ChestPain)"
      ]
    },
    {
      "cell_type": "code",
      "source": [
        "cpd_Cold = TabularCPD(variable='Cold',\n",
        "                      variable_card = 2,\n",
        "                      values=[[0.02],[0.98]],\n",
        "                      state_names={'Cold':['T','F']})\n",
        "print(cpd_Cold)\n",
        "\n",
        "cpd_Cough = TabularCPD(variable='Cough',\n",
        "                       variable_card = 2,\n",
        "                       values =[[0.7525, 0.505, 0.505, 0.01],\n",
        "                                [0.2475, 0.495, 0.495, 0.99]],\n",
        "                       evidence = ['LungDisease', 'Cold'],\n",
        "                       evidence_card = [2,2],\n",
        "                       state_names = {'Cough':['T','F'],\n",
        "                                      'LungDisease':['T','F'],\n",
        "                                      'Cold': ['T','F']})\n",
        "print(cpd_Cough)\n",
        "\n",
        "cpd_Fever = TabularCPD(variable = 'Fever',\n",
        "                       variable_card = 2,\n",
        "                       values=[[0.307, 0.01], \n",
        "                               [0.693, 0.99]],\n",
        "                       evidence=['Cold'],\n",
        "                       evidence_card = [2],\n",
        "                       state_names={'Fever':['T','F'], 'Cold':['T','F']})\n",
        "print(cpd_Fever)"
      ],
      "metadata": {
        "colab": {
          "base_uri": "https://localhost:8080/"
        },
        "id": "jd3ZaWc_QR1B",
        "outputId": "c3d4fb13-1ae2-4ec6-890d-75d85cec3443"
      },
      "execution_count": null,
      "outputs": [
        {
          "output_type": "stream",
          "name": "stdout",
          "text": [
            "+---------+------+\n",
            "| Cold(T) | 0.02 |\n",
            "+---------+------+\n",
            "| Cold(F) | 0.98 |\n",
            "+---------+------+\n",
            "+-------------+----------------+-----+----------------+----------------+\n",
            "| LungDisease | LungDisease(T) | ... | LungDisease(F) | LungDisease(F) |\n",
            "+-------------+----------------+-----+----------------+----------------+\n",
            "| Cold        | Cold(T)        | ... | Cold(T)        | Cold(F)        |\n",
            "+-------------+----------------+-----+----------------+----------------+\n",
            "| Cough(T)    | 0.7525         | ... | 0.505          | 0.01           |\n",
            "+-------------+----------------+-----+----------------+----------------+\n",
            "| Cough(F)    | 0.2475         | ... | 0.495          | 0.99           |\n",
            "+-------------+----------------+-----+----------------+----------------+\n",
            "+----------+---------+---------+\n",
            "| Cold     | Cold(T) | Cold(F) |\n",
            "+----------+---------+---------+\n",
            "| Fever(T) | 0.307   | 0.01    |\n",
            "+----------+---------+---------+\n",
            "| Fever(F) | 0.693   | 0.99    |\n",
            "+----------+---------+---------+\n"
          ]
        }
      ]
    },
    {
      "cell_type": "markdown",
      "metadata": {
        "id": "EvBLv_yEeDxN"
      },
      "source": [
        "## Q4 [5] \n",
        "- Check that each of the CPDs are correct"
      ]
    },
    {
      "cell_type": "code",
      "execution_count": null,
      "metadata": {
        "id": "JUy3-mFpeDxN",
        "outputId": "a0b84a10-5e36-403f-c8a8-f7fea30b0068",
        "colab": {
          "base_uri": "https://localhost:8080/"
        }
      },
      "outputs": [
        {
          "output_type": "execute_result",
          "data": {
            "text/plain": [
              "<TabularCPD representing P(Smokes:2) at 0x7ff198a22ef0>"
            ]
          },
          "metadata": {},
          "execution_count": 29
        }
      ],
      "source": [
        "cpd_Smokes"
      ]
    },
    {
      "cell_type": "code",
      "execution_count": null,
      "metadata": {
        "id": "RaN6SZMfeDxN",
        "outputId": "6a0fd76a-9936-4a35-b7fa-503ae07520c3",
        "colab": {
          "base_uri": "https://localhost:8080/"
        }
      },
      "outputs": [
        {
          "output_type": "stream",
          "name": "stdout",
          "text": [
            "+-----------+-----+\n",
            "| Smokes(T) | 0.2 |\n",
            "+-----------+-----+\n",
            "| Smokes(F) | 0.8 |\n",
            "+-----------+-----+\n"
          ]
        }
      ],
      "source": [
        "print(cpd_Smokes)"
      ]
    },
    {
      "cell_type": "code",
      "execution_count": null,
      "metadata": {
        "id": "LyuXl3hNeDxN",
        "colab": {
          "base_uri": "https://localhost:8080/"
        },
        "outputId": "78c2cb77-07e8-462d-c641-d17c42de950f"
      },
      "outputs": [
        {
          "output_type": "execute_result",
          "data": {
            "text/plain": [
              "<TabularCPD representing P(LungDisease:2 | Smokes:2) at 0x7ff23bc42560>"
            ]
          },
          "metadata": {},
          "execution_count": 54
        }
      ],
      "source": [
        "# Your code\n",
        "cpd_LungDisease"
      ]
    },
    {
      "cell_type": "code",
      "source": [
        "print(cpd_LungDisease)"
      ],
      "metadata": {
        "colab": {
          "base_uri": "https://localhost:8080/"
        },
        "id": "GzVkqbqVXwwp",
        "outputId": "fe9c78bb-511a-4257-c09e-14a1406414a5"
      },
      "execution_count": null,
      "outputs": [
        {
          "output_type": "stream",
          "name": "stdout",
          "text": [
            "+----------------+-----------+-----------+\n",
            "| Smokes         | Smokes(T) | Smokes(F) |\n",
            "+----------------+-----------+-----------+\n",
            "| LungDisease(T) | 0.1009    | 0.001     |\n",
            "+----------------+-----------+-----------+\n",
            "| LungDisease(F) | 0.8991    | 0.999     |\n",
            "+----------------+-----------+-----------+\n"
          ]
        }
      ]
    },
    {
      "cell_type": "code",
      "source": [
        "cpd_ShortnessBreath"
      ],
      "metadata": {
        "colab": {
          "base_uri": "https://localhost:8080/"
        },
        "id": "3XpecuyOQdNN",
        "outputId": "4c5450dc-a335-4bf5-aa89-3354662a0d37"
      },
      "execution_count": null,
      "outputs": [
        {
          "output_type": "execute_result",
          "data": {
            "text/plain": [
              "<TabularCPD representing P(ShortnessBreath:2 | LungDisease:2) at 0x7ff198a23220>"
            ]
          },
          "metadata": {},
          "execution_count": 56
        }
      ]
    },
    {
      "cell_type": "code",
      "source": [
        "print(cpd_ShortnessBreath)"
      ],
      "metadata": {
        "colab": {
          "base_uri": "https://localhost:8080/"
        },
        "id": "rPw6ZCIFX5jc",
        "outputId": "0e737645-6a9c-4b61-ba98-3b514703290c"
      },
      "execution_count": null,
      "outputs": [
        {
          "output_type": "stream",
          "name": "stdout",
          "text": [
            "+--------------------+----------------+----------------+\n",
            "| LungDisease        | LungDisease(T) | LungDisease(F) |\n",
            "+--------------------+----------------+----------------+\n",
            "| ShortnessBreath(T) | 0.208          | 0.01           |\n",
            "+--------------------+----------------+----------------+\n",
            "| ShortnessBreath(F) | 0.791          | 0.99           |\n",
            "+--------------------+----------------+----------------+\n"
          ]
        }
      ]
    },
    {
      "cell_type": "code",
      "source": [
        "cpd_ChestPain"
      ],
      "metadata": {
        "colab": {
          "base_uri": "https://localhost:8080/"
        },
        "id": "Ty3foJnkQhUR",
        "outputId": "35953635-fce5-45e4-8e37-1237c12d1db9"
      },
      "execution_count": null,
      "outputs": [
        {
          "output_type": "execute_result",
          "data": {
            "text/plain": [
              "<TabularCPD representing P(ChestPain:2 | LungDisease:2) at 0x7ff198a224a0>"
            ]
          },
          "metadata": {},
          "execution_count": 58
        }
      ]
    },
    {
      "cell_type": "code",
      "source": [
        "print(cpd_ChestPain)"
      ],
      "metadata": {
        "colab": {
          "base_uri": "https://localhost:8080/"
        },
        "id": "mKW_2Q8pX-VW",
        "outputId": "048fb63a-01ae-4d7b-d538-7be174bdcd9a"
      },
      "execution_count": null,
      "outputs": [
        {
          "output_type": "stream",
          "name": "stdout",
          "text": [
            "+--------------+----------------+----------------+\n",
            "| LungDisease  | LungDisease(T) | LungDisease(F) |\n",
            "+--------------+----------------+----------------+\n",
            "| ChestPain(T) | 0.208          | 0.01           |\n",
            "+--------------+----------------+----------------+\n",
            "| ChestPain(F) | 0.792          | 0.99           |\n",
            "+--------------+----------------+----------------+\n"
          ]
        }
      ]
    },
    {
      "cell_type": "code",
      "source": [
        "cpd_Cold"
      ],
      "metadata": {
        "colab": {
          "base_uri": "https://localhost:8080/"
        },
        "id": "8yQ1jAA_QjlB",
        "outputId": "d8501b87-df83-4753-d916-6078b718a6a9"
      },
      "execution_count": null,
      "outputs": [
        {
          "output_type": "execute_result",
          "data": {
            "text/plain": [
              "<TabularCPD representing P(Cold:2) at 0x7ff198a23a90>"
            ]
          },
          "metadata": {},
          "execution_count": 60
        }
      ]
    },
    {
      "cell_type": "code",
      "source": [
        "print(cpd_Cold)"
      ],
      "metadata": {
        "colab": {
          "base_uri": "https://localhost:8080/"
        },
        "id": "zHcfyCs2YCwY",
        "outputId": "bd02abc8-97f4-43a8-fa6e-920f0f25ec50"
      },
      "execution_count": null,
      "outputs": [
        {
          "output_type": "stream",
          "name": "stdout",
          "text": [
            "+---------+------+\n",
            "| Cold(T) | 0.02 |\n",
            "+---------+------+\n",
            "| Cold(F) | 0.98 |\n",
            "+---------+------+\n"
          ]
        }
      ]
    },
    {
      "cell_type": "code",
      "source": [
        "cpd_Cough"
      ],
      "metadata": {
        "colab": {
          "base_uri": "https://localhost:8080/"
        },
        "id": "jsmfzhQfQmOq",
        "outputId": "c9ca9ce7-4e4b-4491-9b0b-cfc6df3bebe2"
      },
      "execution_count": null,
      "outputs": [
        {
          "output_type": "execute_result",
          "data": {
            "text/plain": [
              "<TabularCPD representing P(Cough:2 | LungDisease:2, Cold:2) at 0x7ff198a21540>"
            ]
          },
          "metadata": {},
          "execution_count": 62
        }
      ]
    },
    {
      "cell_type": "code",
      "source": [
        "print(cpd_Cough)"
      ],
      "metadata": {
        "colab": {
          "base_uri": "https://localhost:8080/"
        },
        "id": "cG3F7jYlYM9Z",
        "outputId": "ad41c5a7-3b7d-4682-e367-9be31bcf99a1"
      },
      "execution_count": null,
      "outputs": [
        {
          "output_type": "stream",
          "name": "stdout",
          "text": [
            "+-------------+----------------+-----+----------------+----------------+\n",
            "| LungDisease | LungDisease(T) | ... | LungDisease(F) | LungDisease(F) |\n",
            "+-------------+----------------+-----+----------------+----------------+\n",
            "| Cold        | Cold(T)        | ... | Cold(T)        | Cold(F)        |\n",
            "+-------------+----------------+-----+----------------+----------------+\n",
            "| Cough(T)    | 0.7525         | ... | 0.505          | 0.01           |\n",
            "+-------------+----------------+-----+----------------+----------------+\n",
            "| Cough(F)    | 0.2475         | ... | 0.495          | 0.99           |\n",
            "+-------------+----------------+-----+----------------+----------------+\n"
          ]
        }
      ]
    },
    {
      "cell_type": "code",
      "source": [
        "cpd_Fever"
      ],
      "metadata": {
        "colab": {
          "base_uri": "https://localhost:8080/"
        },
        "id": "3usAFYhoQpCB",
        "outputId": "9067bfbc-34bb-4391-f122-3bfe247c4d8c"
      },
      "execution_count": null,
      "outputs": [
        {
          "output_type": "execute_result",
          "data": {
            "text/plain": [
              "<TabularCPD representing P(Fever:2 | Cold:2) at 0x7ff198a20dc0>"
            ]
          },
          "metadata": {},
          "execution_count": 65
        }
      ]
    },
    {
      "cell_type": "code",
      "source": [
        "print(cpd_Fever)"
      ],
      "metadata": {
        "colab": {
          "base_uri": "https://localhost:8080/"
        },
        "id": "kg8duPVzYXND",
        "outputId": "85e51807-b1be-47df-b66a-7dc3e07e1ff0"
      },
      "execution_count": null,
      "outputs": [
        {
          "output_type": "stream",
          "name": "stdout",
          "text": [
            "+----------+---------+---------+\n",
            "| Cold     | Cold(T) | Cold(F) |\n",
            "+----------+---------+---------+\n",
            "| Fever(T) | 0.307   | 0.01    |\n",
            "+----------+---------+---------+\n",
            "| Fever(F) | 0.693   | 0.99    |\n",
            "+----------+---------+---------+\n"
          ]
        }
      ]
    },
    {
      "cell_type": "markdown",
      "metadata": {
        "id": "h2vhC-FCeDxN"
      },
      "source": [
        "## Q5 [5]\n",
        "- Add the defined CPDs to the model (Associate the CPDs with the network)"
      ]
    },
    {
      "cell_type": "code",
      "execution_count": null,
      "metadata": {
        "id": "7sbVO9BzeDxN",
        "outputId": "65fd3c41-1864-433b-8190-4f81faad9c9a",
        "colab": {
          "base_uri": "https://localhost:8080/"
        }
      },
      "outputs": [
        {
          "output_type": "execute_result",
          "data": {
            "text/plain": [
              "True"
            ]
          },
          "metadata": {},
          "execution_count": 37
        }
      ],
      "source": [
        "model.add_cpds(cpd_Smokes, cpd_LungDisease, cpd_ShortnessBreath, cpd_ChestPain, cpd_Cold, cpd_Cough, cpd_Fever)\n",
        "model.check_model()"
      ]
    },
    {
      "cell_type": "code",
      "execution_count": null,
      "metadata": {
        "id": "raWTzFryeDxO",
        "colab": {
          "base_uri": "https://localhost:8080/"
        },
        "outputId": "80530e82-8391-4002-f2a7-8266b484dc09"
      },
      "outputs": [
        {
          "output_type": "execute_result",
          "data": {
            "text/plain": [
              "[<TabularCPD representing P(Smokes:2) at 0x7ff198a22ef0>,\n",
              " <TabularCPD representing P(LungDisease:2 | Smokes:2) at 0x7ff23bc42560>,\n",
              " <TabularCPD representing P(ShortnessBreath:2 | LungDisease:2) at 0x7ff198a23220>,\n",
              " <TabularCPD representing P(ChestPain:2 | LungDisease:2) at 0x7ff198a224a0>,\n",
              " <TabularCPD representing P(Cold:2) at 0x7ff198a23a90>,\n",
              " <TabularCPD representing P(Cough:2 | LungDisease:2, Cold:2) at 0x7ff198a21540>,\n",
              " <TabularCPD representing P(Fever:2 | Cold:2) at 0x7ff198a20dc0>]"
            ]
          },
          "metadata": {},
          "execution_count": 38
        }
      ],
      "source": [
        "model.get_cpds()"
      ]
    },
    {
      "cell_type": "markdown",
      "metadata": {
        "id": "S4vXP0IaeDxO"
      },
      "source": [
        "## Q6 [5]\n",
        "- The cardinality of each of the nodes is 2 - True or False?"
      ]
    },
    {
      "cell_type": "code",
      "execution_count": null,
      "metadata": {
        "id": "cjEpkpgDeDxO",
        "outputId": "3b35cb78-a797-471d-b4ca-b3aaafd4fab4",
        "colab": {
          "base_uri": "https://localhost:8080/"
        }
      },
      "outputs": [
        {
          "output_type": "execute_result",
          "data": {
            "text/plain": [
              "defaultdict(int,\n",
              "            {'Smokes': 2,\n",
              "             'LungDisease': 2,\n",
              "             'ShortnessBreath': 2,\n",
              "             'ChestPain': 2,\n",
              "             'Cold': 2,\n",
              "             'Cough': 2,\n",
              "             'Fever': 2})"
            ]
          },
          "metadata": {},
          "execution_count": 39
        }
      ],
      "source": [
        "# Your code\n",
        "model.get_cardinality()"
      ]
    },
    {
      "cell_type": "code",
      "source": [
        "print('Smokes:', model.get_cardinality('Smokes')==2)\n",
        "print('LungDisease:', model.get_cardinality('LungDisease')==2)\n",
        "print('ShortnessBreath:', model.get_cardinality('ShortnessBreath')==2)\n",
        "print('ChestPain:', model.get_cardinality('ChestPain')==2)\n",
        "print('Cold:', model.get_cardinality('Cold')==2)\n",
        "print('Cough:', model.get_cardinality('Cough')==2)\n",
        "print('Fever:', model.get_cardinality('Fever')==2)"
      ],
      "metadata": {
        "colab": {
          "base_uri": "https://localhost:8080/"
        },
        "id": "Y85moO_wYgaG",
        "outputId": "c591a26e-f5b3-4078-a44e-61c2fe62682a"
      },
      "execution_count": null,
      "outputs": [
        {
          "output_type": "stream",
          "name": "stdout",
          "text": [
            "Smokes: True\n",
            "LungDisease: True\n",
            "ShortnessBreath: True\n",
            "ChestPain: True\n",
            "Cold: True\n",
            "Cough: True\n",
            "Fever: True\n"
          ]
        }
      ]
    },
    {
      "cell_type": "markdown",
      "metadata": {
        "id": "lDCtSmu_eDxO"
      },
      "source": [
        "### Q7 [10] \n",
        "**Find the probability of each event hapenning using the variable elimination method.**\n",
        "- $ P(Smokes) $\n",
        "- $ P(Cold) $\n",
        "- $ P(LungDisease) $\n",
        "- $ P(ShortnessBreath) $\n",
        "- $ P(ChestPain) $\n",
        "- $ P(Fever) $\n",
        "- $ P(Cough) $\n",
        "- $ P(LungDisease|Smokes=True) $\n",
        "- $ P(LungDisease|Cough=True) $\n",
        "- $ P(ShortnessBreath|Smokes=True) $\n",
        "- $ P(ChestPain|Fever=True) $"
      ]
    },
    {
      "cell_type": "code",
      "execution_count": null,
      "metadata": {
        "id": "EjGWfSiheDxP"
      },
      "outputs": [],
      "source": [
        "from pgmpy.inference import VariableElimination\n",
        "infer = VariableElimination(model)"
      ]
    },
    {
      "cell_type": "code",
      "execution_count": null,
      "metadata": {
        "id": "_O7oeSybeDxP",
        "outputId": "100972c1-baed-4fde-a5e0-ac5e96762be3",
        "colab": {
          "base_uri": "https://localhost:8080/"
        }
      },
      "outputs": [
        {
          "output_type": "stream",
          "name": "stdout",
          "text": [
            "+-----------+---------------+\n",
            "| Smokes    |   phi(Smokes) |\n",
            "+===========+===============+\n",
            "| Smokes(T) |        0.2000 |\n",
            "+-----------+---------------+\n",
            "| Smokes(F) |        0.8000 |\n",
            "+-----------+---------------+\n"
          ]
        }
      ],
      "source": [
        "dist = infer.query(['Smokes'])\n",
        "print(dist)\n",
        "# Your code"
      ]
    },
    {
      "cell_type": "code",
      "source": [
        "dist = infer.query(['Cold'])\n",
        "print(dist)"
      ],
      "metadata": {
        "colab": {
          "base_uri": "https://localhost:8080/"
        },
        "id": "loenNOkgaKTn",
        "outputId": "0f1d2014-a37f-4b19-e002-c22082c7cccd"
      },
      "execution_count": null,
      "outputs": [
        {
          "output_type": "stream",
          "name": "stdout",
          "text": [
            "+---------+-------------+\n",
            "| Cold    |   phi(Cold) |\n",
            "+=========+=============+\n",
            "| Cold(T) |      0.0200 |\n",
            "+---------+-------------+\n",
            "| Cold(F) |      0.9800 |\n",
            "+---------+-------------+\n"
          ]
        }
      ]
    },
    {
      "cell_type": "code",
      "source": [
        "dist = infer.query(['LungDisease'])\n",
        "print(dist)"
      ],
      "metadata": {
        "colab": {
          "base_uri": "https://localhost:8080/"
        },
        "id": "PYEn6SIXaVG7",
        "outputId": "84a7936a-bda9-4f43-acda-3f784aa2a30b"
      },
      "execution_count": null,
      "outputs": [
        {
          "output_type": "stream",
          "name": "stdout",
          "text": [
            "+----------------+--------------------+\n",
            "| LungDisease    |   phi(LungDisease) |\n",
            "+================+====================+\n",
            "| LungDisease(T) |             0.0210 |\n",
            "+----------------+--------------------+\n",
            "| LungDisease(F) |             0.9790 |\n",
            "+----------------+--------------------+\n"
          ]
        }
      ]
    },
    {
      "cell_type": "code",
      "source": [
        "dist = infer.query(['ShortnessBreath'])\n",
        "print(dist)"
      ],
      "metadata": {
        "colab": {
          "base_uri": "https://localhost:8080/"
        },
        "id": "TSgiNaqFaWGx",
        "outputId": "5a41729b-98a2-49ab-dc06-6fae7b2de5f2"
      },
      "execution_count": null,
      "outputs": [
        {
          "output_type": "stream",
          "name": "stdout",
          "text": [
            "+--------------------+------------------------+\n",
            "| ShortnessBreath    |   phi(ShortnessBreath) |\n",
            "+====================+========================+\n",
            "| ShortnessBreath(T) |                 0.0142 |\n",
            "+--------------------+------------------------+\n",
            "| ShortnessBreath(F) |                 0.9858 |\n",
            "+--------------------+------------------------+\n"
          ]
        }
      ]
    },
    {
      "cell_type": "code",
      "source": [
        "dist = infer.query(['ChestPain'])\n",
        "print(dist)"
      ],
      "metadata": {
        "colab": {
          "base_uri": "https://localhost:8080/"
        },
        "id": "3Ok2OtfLaX9z",
        "outputId": "da30ce45-6a64-46ed-bed5-68a7ebff42e2"
      },
      "execution_count": null,
      "outputs": [
        {
          "output_type": "stream",
          "name": "stdout",
          "text": [
            "+--------------+------------------+\n",
            "| ChestPain    |   phi(ChestPain) |\n",
            "+==============+==================+\n",
            "| ChestPain(T) |           0.0142 |\n",
            "+--------------+------------------+\n",
            "| ChestPain(F) |           0.9858 |\n",
            "+--------------+------------------+\n"
          ]
        }
      ]
    },
    {
      "cell_type": "code",
      "source": [
        "dist = infer.query(['Fever'])\n",
        "print(dist)"
      ],
      "metadata": {
        "colab": {
          "base_uri": "https://localhost:8080/"
        },
        "id": "4YzHiNWMaYzV",
        "outputId": "fe9fa51d-25be-4a4b-9ec7-a5d5e34b64c7"
      },
      "execution_count": null,
      "outputs": [
        {
          "output_type": "stream",
          "name": "stdout",
          "text": [
            "+----------+--------------+\n",
            "| Fever    |   phi(Fever) |\n",
            "+==========+==============+\n",
            "| Fever(T) |       0.0159 |\n",
            "+----------+--------------+\n",
            "| Fever(F) |       0.9841 |\n",
            "+----------+--------------+\n"
          ]
        }
      ]
    },
    {
      "cell_type": "code",
      "source": [
        "dist = infer.query(['Cough'])\n",
        "print(dist)"
      ],
      "metadata": {
        "colab": {
          "base_uri": "https://localhost:8080/"
        },
        "id": "gBbp3KKSaZx3",
        "outputId": "860fb6b6-4f80-4382-82a3-f4b4e6140710"
      },
      "execution_count": null,
      "outputs": [
        {
          "output_type": "stream",
          "name": "stdout",
          "text": [
            "+----------+--------------+\n",
            "| Cough    |   phi(Cough) |\n",
            "+==========+==============+\n",
            "| Cough(T) |       0.0302 |\n",
            "+----------+--------------+\n",
            "| Cough(F) |       0.9698 |\n",
            "+----------+--------------+\n"
          ]
        }
      ]
    },
    {
      "cell_type": "code",
      "source": [
        "# P(LungDisease|Smokes=True)\n",
        "dist = infer.query(['LungDisease'], evidence={'Smokes':'T'})\n",
        "print(dist)"
      ],
      "metadata": {
        "colab": {
          "base_uri": "https://localhost:8080/"
        },
        "id": "TV2MnXs0ayBT",
        "outputId": "9d61ea34-b5b5-41c6-a633-ef440d721852"
      },
      "execution_count": null,
      "outputs": [
        {
          "output_type": "stream",
          "name": "stdout",
          "text": [
            "+----------------+--------------------+\n",
            "| LungDisease    |   phi(LungDisease) |\n",
            "+================+====================+\n",
            "| LungDisease(T) |             0.1009 |\n",
            "+----------------+--------------------+\n",
            "| LungDisease(F) |             0.8991 |\n",
            "+----------------+--------------------+\n"
          ]
        }
      ]
    },
    {
      "cell_type": "code",
      "source": [
        "# P(LungDisease|Cough=True) \n",
        "dist = infer.query(['LungDisease'], evidence={'Cough':'T'})\n",
        "print(dist)"
      ],
      "metadata": {
        "colab": {
          "base_uri": "https://localhost:8080/"
        },
        "id": "YzbtYc7dbGkt",
        "outputId": "6fad746a-fc1b-4566-91ab-5cc600a046db"
      },
      "execution_count": null,
      "outputs": [
        {
          "output_type": "stream",
          "name": "stdout",
          "text": [
            "+----------------+--------------------+\n",
            "| LungDisease    |   phi(LungDisease) |\n",
            "+================+====================+\n",
            "| LungDisease(T) |             0.3545 |\n",
            "+----------------+--------------------+\n",
            "| LungDisease(F) |             0.6455 |\n",
            "+----------------+--------------------+\n"
          ]
        }
      ]
    },
    {
      "cell_type": "code",
      "source": [
        "#P(ShortnessBreath|Smokes=True)\n",
        "dist = infer.query(['ShortnessBreath'], evidence={'Smokes':'T'})\n",
        "print(dist)"
      ],
      "metadata": {
        "colab": {
          "base_uri": "https://localhost:8080/"
        },
        "id": "ButKqySLbLn8",
        "outputId": "a6129a2d-4d9b-4add-b3ef-be5559697d7f"
      },
      "execution_count": null,
      "outputs": [
        {
          "output_type": "stream",
          "name": "stdout",
          "text": [
            "+--------------------+------------------------+\n",
            "| ShortnessBreath    |   phi(ShortnessBreath) |\n",
            "+====================+========================+\n",
            "| ShortnessBreath(T) |                 0.0300 |\n",
            "+--------------------+------------------------+\n",
            "| ShortnessBreath(F) |                 0.9700 |\n",
            "+--------------------+------------------------+\n"
          ]
        }
      ]
    },
    {
      "cell_type": "code",
      "source": [
        "# P(ChestPain|Fever=True)\n",
        "dist = infer.query(['ChestPain'], evidence={'Fever':'T'})\n",
        "print(dist)"
      ],
      "metadata": {
        "colab": {
          "base_uri": "https://localhost:8080/"
        },
        "id": "sgfTKpDVbQHk",
        "outputId": "180f38c1-811a-49ae-e018-93e643426859"
      },
      "execution_count": null,
      "outputs": [
        {
          "output_type": "stream",
          "name": "stdout",
          "text": [
            "+--------------+------------------+\n",
            "| ChestPain    |   phi(ChestPain) |\n",
            "+==============+==================+\n",
            "| ChestPain(T) |           0.0142 |\n",
            "+--------------+------------------+\n",
            "| ChestPain(F) |           0.9858 |\n",
            "+--------------+------------------+\n"
          ]
        }
      ]
    },
    {
      "cell_type": "markdown",
      "metadata": {
        "id": "08phrADdeDxP"
      },
      "source": []
    },
    {
      "cell_type": "markdown",
      "metadata": {
        "id": "TBLwhkrTeDxP"
      },
      "source": [
        "## Q8 [15] \n",
        "**Are the following  true? If not, can you make them independent by including info on the parent?**\n",
        "1. Cough is independent from Fever. (Having knowledge about Fever does not change the probability of Cough) \n",
        "2. Fever is independent from Smokes. \n",
        "3. ChestPain is independent from Smokes.\n",
        "4. ChestPain is independent from Smokes given LungDisease.\n"
      ]
    },
    {
      "cell_type": "markdown",
      "metadata": {
        "id": "Mqd54q-eeDxP"
      },
      "source": [
        "##### 1. Cough is independent from Fever"
      ]
    },
    {
      "cell_type": "code",
      "execution_count": null,
      "metadata": {
        "id": "rpGh16tNeDxP",
        "outputId": "6cb0c18d-acce-4600-9f13-388954fc3acd"
      },
      "outputs": [
        {
          "name": "stderr",
          "output_type": "stream",
          "text": [
            "Finding Elimination Order: : 100%|█████████████████████████████████████████████████████| 6/6 [00:00<00:00, 6042.21it/s]\n",
            "Eliminating: Cold: 100%|████████████████████████████████████████████████████████████████| 6/6 [00:00<00:00, 601.59it/s]\n",
            "Finding Elimination Order: : 100%|█████████████████████████████████████████████████████| 5/5 [00:00<00:00, 5011.12it/s]\n",
            "Eliminating: Cold: 100%|████████████████████████████████████████████████████████████████| 5/5 [00:00<00:00, 626.75it/s]\n",
            "Finding Elimination Order: : 100%|█████████████████████████████████████████████████████| 5/5 [00:00<00:00, 5011.12it/s]\n",
            "Eliminating: Cold: 100%|████████████████████████████████████████████████████████████████| 5/5 [00:00<00:00, 626.50it/s]"
          ]
        },
        {
          "name": "stdout",
          "output_type": "stream",
          "text": [
            "+----------+--------------+\n",
            "| Cough    |   phi(Cough) |\n",
            "+==========+==============+\n",
            "| Cough(T) |       0.0302 |\n",
            "+----------+--------------+\n",
            "| Cough(F) |       0.9698 |\n",
            "+----------+--------------+\n",
            "+----------+--------------+\n",
            "| Cough    |   phi(Cough) |\n",
            "+==========+==============+\n",
            "| Cough(T) |       0.2091 |\n",
            "+----------+--------------+\n",
            "| Cough(F) |       0.7909 |\n",
            "+----------+--------------+\n",
            "+----------+--------------+\n",
            "| Cough    |   phi(Cough) |\n",
            "+==========+==============+\n",
            "| Cough(T) |       0.0273 |\n",
            "+----------+--------------+\n",
            "| Cough(F) |       0.9727 |\n",
            "+----------+--------------+\n"
          ]
        },
        {
          "name": "stderr",
          "output_type": "stream",
          "text": [
            "\n"
          ]
        }
      ],
      "source": [
        "dist = infer.query(['Cough'])\n",
        "print(dist)\n",
        "\n",
        "dist = infer.query(['Cough'], evidence={'Fever':'T'})\n",
        "print(dist)\n",
        "\n",
        "dist = infer.query(['Cough'], evidence={'Fever':'F'})\n",
        "print(dist)"
      ]
    },
    {
      "cell_type": "markdown",
      "metadata": {
        "id": "rEyuDCogeDxP"
      },
      "source": [
        "- Fever does affect Cough -> Not independent\n",
        "- However, given the parent of both Fever and Cough (Cold), they should be independent."
      ]
    },
    {
      "cell_type": "code",
      "execution_count": null,
      "metadata": {
        "id": "bW5skR9geDxQ",
        "outputId": "d83fe49c-5ef1-45ce-f94e-934db5d19120"
      },
      "outputs": [
        {
          "name": "stderr",
          "output_type": "stream",
          "text": [
            "Finding Elimination Order: : 100%|█████████████████████████████████████████████████████| 4/4 [00:00<00:00, 4006.98it/s]\n",
            "Eliminating: LungDisease: 100%|█████████████████████████████████████████████████████████| 4/4 [00:00<00:00, 801.89it/s]\n",
            "Finding Elimination Order: : 100%|█████████████████████████████████████████████████████| 4/4 [00:00<00:00, 4007.94it/s]\n",
            "Eliminating: LungDisease: 100%|█████████████████████████████████████████████████████████| 4/4 [00:00<00:00, 571.80it/s]\n",
            "Finding Elimination Order: : 100%|█████████████████████████████████████████████████████| 4/4 [00:00<00:00, 4014.65it/s]\n",
            "Eliminating: LungDisease: 100%|█████████████████████████████████████████████████████████| 4/4 [00:00<00:00, 668.28it/s]\n",
            "Finding Elimination Order: : 100%|█████████████████████████████████████████████████████| 4/4 [00:00<00:00, 3967.18it/s]\n",
            "Eliminating: LungDisease: 100%|█████████████████████████████████████████████████████████| 4/4 [00:00<00:00, 572.74it/s]"
          ]
        },
        {
          "name": "stdout",
          "output_type": "stream",
          "text": [
            "+----------+--------------+\n",
            "| Cough    |   phi(Cough) |\n",
            "+==========+==============+\n",
            "| Cough(T) |       0.0204 |\n",
            "+----------+--------------+\n",
            "| Cough(F) |       0.9796 |\n",
            "+----------+--------------+\n",
            "+----------+--------------+\n",
            "| Cough    |   phi(Cough) |\n",
            "+==========+==============+\n",
            "| Cough(T) |       0.0204 |\n",
            "+----------+--------------+\n",
            "| Cough(F) |       0.9796 |\n",
            "+----------+--------------+\n",
            "+----------+--------------+\n",
            "| Cough    |   phi(Cough) |\n",
            "+==========+==============+\n",
            "| Cough(T) |       0.5102 |\n",
            "+----------+--------------+\n",
            "| Cough(F) |       0.4898 |\n",
            "+----------+--------------+\n",
            "+----------+--------------+\n",
            "| Cough    |   phi(Cough) |\n",
            "+==========+==============+\n",
            "| Cough(T) |       0.5102 |\n",
            "+----------+--------------+\n",
            "| Cough(F) |       0.4898 |\n",
            "+----------+--------------+\n"
          ]
        },
        {
          "name": "stderr",
          "output_type": "stream",
          "text": [
            "\n"
          ]
        }
      ],
      "source": [
        "dist = infer.query(['Cough'], evidence={'Cold':'F', 'Fever':'T'})\n",
        "print(dist)\n",
        "\n",
        "dist = infer.query(['Cough'], evidence={'Cold':'F', 'Fever':'F'})\n",
        "print(dist)\n",
        "\n",
        "dist = infer.query(['Cough'], evidence={'Cold':'T', 'Fever':'T'})\n",
        "print(dist)\n",
        "\n",
        "dist = infer.query(['Cough'], evidence={'Cold':'T', 'Fever':'F'})\n",
        "print(dist)"
      ]
    },
    {
      "cell_type": "markdown",
      "source": [
        "Cough is independent from Fever."
      ],
      "metadata": {
        "id": "2T-k-fvfcK0T"
      }
    },
    {
      "cell_type": "markdown",
      "metadata": {
        "id": "uRitS7THeDxQ"
      },
      "source": [
        "##### 2. Fever is independent from Smokes. "
      ]
    },
    {
      "cell_type": "code",
      "execution_count": null,
      "metadata": {
        "id": "CO172yfUeDxQ",
        "colab": {
          "base_uri": "https://localhost:8080/"
        },
        "outputId": "e5965332-826a-4541-8ac8-fbb18f62b68d"
      },
      "outputs": [
        {
          "output_type": "stream",
          "name": "stdout",
          "text": [
            "+----------+--------------+\n",
            "| Fever    |   phi(Fever) |\n",
            "+==========+==============+\n",
            "| Fever(T) |       0.0159 |\n",
            "+----------+--------------+\n",
            "| Fever(F) |       0.9841 |\n",
            "+----------+--------------+\n",
            "+----------+--------------+\n",
            "| Fever    |   phi(Fever) |\n",
            "+==========+==============+\n",
            "| Fever(T) |       0.0159 |\n",
            "+----------+--------------+\n",
            "| Fever(F) |       0.9841 |\n",
            "+----------+--------------+\n",
            "+----------+--------------+\n",
            "| Fever    |   phi(Fever) |\n",
            "+==========+==============+\n",
            "| Fever(T) |       0.0159 |\n",
            "+----------+--------------+\n",
            "| Fever(F) |       0.9841 |\n",
            "+----------+--------------+\n"
          ]
        }
      ],
      "source": [
        "# Your code\n",
        "dist = infer.query(['Fever'])\n",
        "print(dist)\n",
        "\n",
        "dist = infer.query(['Fever'], evidence={'Smokes':'T'})\n",
        "print(dist)\n",
        "\n",
        "dist = infer.query(['Fever'], evidence={'Smokes':'F'})\n",
        "print(dist)"
      ]
    },
    {
      "cell_type": "markdown",
      "source": [
        "Fever is independent from Smokes. Smokes does not affect Fever because all do not change."
      ],
      "metadata": {
        "id": "TwFUTvvKcmHo"
      }
    },
    {
      "cell_type": "markdown",
      "metadata": {
        "id": "fLv4tXLReDxQ"
      },
      "source": [
        "##### 3. ChestPain is independent from Smokes."
      ]
    },
    {
      "cell_type": "code",
      "execution_count": null,
      "metadata": {
        "id": "Gg3vqgPgeDxQ",
        "colab": {
          "base_uri": "https://localhost:8080/"
        },
        "outputId": "6a207102-8623-4f2a-982c-f394f36d7613"
      },
      "outputs": [
        {
          "output_type": "stream",
          "name": "stdout",
          "text": [
            "+--------------+------------------+\n",
            "| ChestPain    |   phi(ChestPain) |\n",
            "+==============+==================+\n",
            "| ChestPain(T) |           0.0142 |\n",
            "+--------------+------------------+\n",
            "| ChestPain(F) |           0.9858 |\n",
            "+--------------+------------------+\n",
            "+--------------+------------------+\n",
            "| ChestPain    |   phi(ChestPain) |\n",
            "+==============+==================+\n",
            "| ChestPain(T) |           0.0300 |\n",
            "+--------------+------------------+\n",
            "| ChestPain(F) |           0.9700 |\n",
            "+--------------+------------------+\n",
            "+--------------+------------------+\n",
            "| ChestPain    |   phi(ChestPain) |\n",
            "+==============+==================+\n",
            "| ChestPain(T) |           0.0102 |\n",
            "+--------------+------------------+\n",
            "| ChestPain(F) |           0.9898 |\n",
            "+--------------+------------------+\n"
          ]
        }
      ],
      "source": [
        "# Your code\n",
        "dist = infer.query(['ChestPain'])\n",
        "print(dist)\n",
        "\n",
        "dist = infer.query(['ChestPain'], evidence = {'Smokes':'T'})\n",
        "print(dist)\n",
        "\n",
        "dist = infer.query(['ChestPain'], evidence = {'Smokes':'F'})\n",
        "print(dist)"
      ]
    },
    {
      "cell_type": "markdown",
      "source": [
        "ChestPain is not independent from Smokes because all do affect. "
      ],
      "metadata": {
        "id": "AZJ20PE_c9al"
      }
    },
    {
      "cell_type": "code",
      "source": [
        "dist = infer.query(['ChestPain'], evidence = {'LungDisease':'T', 'Smokes':'T'})\n",
        "print(dist)\n",
        "\n",
        "dist = infer.query(['ChestPain'], evidence = {'LungDisease':'T', 'Smokes':'F'})\n",
        "print(dist)\n",
        "\n",
        "dist = infer.query(['ChestPain'], evidence = {'LungDisease':'F', 'Smokes':'T'})\n",
        "print(dist)\n",
        "\n",
        "dist = infer.query(['ChestPain'], evidence = {'LungDisease':'F', 'Smokes':'F'})\n",
        "print(dist)"
      ],
      "metadata": {
        "colab": {
          "base_uri": "https://localhost:8080/"
        },
        "id": "zqHAwExXdZ1G",
        "outputId": "4a9fd849-da31-4e65-f1ac-77562a47abf6"
      },
      "execution_count": null,
      "outputs": [
        {
          "output_type": "stream",
          "name": "stdout",
          "text": [
            "+--------------+------------------+\n",
            "| ChestPain    |   phi(ChestPain) |\n",
            "+==============+==================+\n",
            "| ChestPain(T) |           0.2080 |\n",
            "+--------------+------------------+\n",
            "| ChestPain(F) |           0.7920 |\n",
            "+--------------+------------------+\n",
            "+--------------+------------------+\n",
            "| ChestPain    |   phi(ChestPain) |\n",
            "+==============+==================+\n",
            "| ChestPain(T) |           0.2080 |\n",
            "+--------------+------------------+\n",
            "| ChestPain(F) |           0.7920 |\n",
            "+--------------+------------------+\n",
            "+--------------+------------------+\n",
            "| ChestPain    |   phi(ChestPain) |\n",
            "+==============+==================+\n",
            "| ChestPain(T) |           0.0100 |\n",
            "+--------------+------------------+\n",
            "| ChestPain(F) |           0.9900 |\n",
            "+--------------+------------------+\n",
            "+--------------+------------------+\n",
            "| ChestPain    |   phi(ChestPain) |\n",
            "+==============+==================+\n",
            "| ChestPain(T) |           0.0100 |\n",
            "+--------------+------------------+\n",
            "| ChestPain(F) |           0.9900 |\n",
            "+--------------+------------------+\n"
          ]
        }
      ]
    },
    {
      "cell_type": "markdown",
      "source": [
        "ChestPain is indepdendent from Smokes."
      ],
      "metadata": {
        "id": "bDDmUxHJd2T_"
      }
    },
    {
      "cell_type": "markdown",
      "source": [
        "4. ChestPain is independent from Smokes given LungDisease."
      ],
      "metadata": {
        "id": "-r3hBrgnejOa"
      }
    },
    {
      "cell_type": "code",
      "source": [
        "dist = infer.query(['ChestPain', 'LungDisease'])\n",
        "print(dist)\n",
        "\n",
        "dist = infer.query(['ChestPain', 'LungDisease'], evidence = {'Smokes':'T'})\n",
        "print(dist)\n",
        "\n",
        "dist = infer.query(['ChestPain', 'LungDisease'], evidence = {'Smokes':'F'})\n",
        "print(dist)"
      ],
      "metadata": {
        "colab": {
          "base_uri": "https://localhost:8080/"
        },
        "id": "yUBjcmhxekkN",
        "outputId": "e4fceca4-acd9-4fa9-f64b-515c8f8fbd6f"
      },
      "execution_count": null,
      "outputs": [
        {
          "output_type": "stream",
          "name": "stdout",
          "text": [
            "+--------------+----------------+------------------------------+\n",
            "| ChestPain    | LungDisease    |   phi(ChestPain,LungDisease) |\n",
            "+==============+================+==============================+\n",
            "| ChestPain(T) | LungDisease(T) |                       0.0044 |\n",
            "+--------------+----------------+------------------------------+\n",
            "| ChestPain(T) | LungDisease(F) |                       0.0098 |\n",
            "+--------------+----------------+------------------------------+\n",
            "| ChestPain(F) | LungDisease(T) |                       0.0166 |\n",
            "+--------------+----------------+------------------------------+\n",
            "| ChestPain(F) | LungDisease(F) |                       0.9692 |\n",
            "+--------------+----------------+------------------------------+\n",
            "+--------------+----------------+------------------------------+\n",
            "| ChestPain    | LungDisease    |   phi(ChestPain,LungDisease) |\n",
            "+==============+================+==============================+\n",
            "| ChestPain(T) | LungDisease(T) |                       0.0210 |\n",
            "+--------------+----------------+------------------------------+\n",
            "| ChestPain(T) | LungDisease(F) |                       0.0090 |\n",
            "+--------------+----------------+------------------------------+\n",
            "| ChestPain(F) | LungDisease(T) |                       0.0799 |\n",
            "+--------------+----------------+------------------------------+\n",
            "| ChestPain(F) | LungDisease(F) |                       0.8901 |\n",
            "+--------------+----------------+------------------------------+\n",
            "+--------------+----------------+------------------------------+\n",
            "| ChestPain    | LungDisease    |   phi(ChestPain,LungDisease) |\n",
            "+==============+================+==============================+\n",
            "| ChestPain(T) | LungDisease(T) |                       0.0002 |\n",
            "+--------------+----------------+------------------------------+\n",
            "| ChestPain(T) | LungDisease(F) |                       0.0100 |\n",
            "+--------------+----------------+------------------------------+\n",
            "| ChestPain(F) | LungDisease(T) |                       0.0008 |\n",
            "+--------------+----------------+------------------------------+\n",
            "| ChestPain(F) | LungDisease(F) |                       0.9890 |\n",
            "+--------------+----------------+------------------------------+\n"
          ]
        }
      ]
    },
    {
      "cell_type": "markdown",
      "metadata": {
        "id": "5ztZGTureDxQ"
      },
      "source": [
        "## Q9 [20]\n",
        "1. Does having the knowledge that the person is coughing increase the probability of lung disease?\n",
        "2. Does having the knowledge that the person is coughing increase the probability that the person has Cold?\n",
        "3. Does having the knowledge that the person is coughing increase the probability that there is Fever?\n",
        "4. Does having the knowledge that the person is coughing increase the probability that there is Fever, given the person has Cold?\n",
        "5. Does having the knowledge that the person has Fever increase the probability that there is Lung Disease?\n"
      ]
    },
    {
      "cell_type": "markdown",
      "metadata": {
        "id": "2KQn-jF5eDxQ"
      },
      "source": [
        "##### 1. Does having the knowledge that the person is coughing increase the probability of lung disease? [5]"
      ]
    },
    {
      "cell_type": "code",
      "execution_count": null,
      "metadata": {
        "id": "CvBHO8V9eDxR",
        "outputId": "3bf1885f-74f8-44ba-ced8-5ce35455147b",
        "colab": {
          "base_uri": "https://localhost:8080/"
        }
      },
      "outputs": [
        {
          "output_type": "stream",
          "name": "stdout",
          "text": [
            "+----------------+--------------------+\n",
            "| LungDisease    |   phi(LungDisease) |\n",
            "+================+====================+\n",
            "| LungDisease(T) |             0.0210 |\n",
            "+----------------+--------------------+\n",
            "| LungDisease(F) |             0.9790 |\n",
            "+----------------+--------------------+\n",
            "+----------------+--------------------+\n",
            "| LungDisease    |   phi(LungDisease) |\n",
            "+================+====================+\n",
            "| LungDisease(T) |             0.3545 |\n",
            "+----------------+--------------------+\n",
            "| LungDisease(F) |             0.6455 |\n",
            "+----------------+--------------------+\n"
          ]
        }
      ],
      "source": [
        "dist = infer.query(['LungDisease'])\n",
        "print(dist)\n",
        "dist = infer.query(['LungDisease'], evidence={'Cough': 'T'})\n",
        "print(dist)"
      ]
    },
    {
      "cell_type": "markdown",
      "metadata": {
        "id": "kI9DLpXgeDxR"
      },
      "source": [
        "Having the knowledge that the person is coughing increases the probability of lung disease."
      ]
    },
    {
      "cell_type": "markdown",
      "metadata": {
        "id": "_BBSOztseDxR"
      },
      "source": [
        "##### 2. Does having the knowledge that the person is coughing increase the probability that the person has Cold? [5]"
      ]
    },
    {
      "cell_type": "code",
      "execution_count": null,
      "metadata": {
        "id": "3tzAD1CAeDxR",
        "colab": {
          "base_uri": "https://localhost:8080/"
        },
        "outputId": "6b99bba8-5452-4603-fdf0-ee33b6906366"
      },
      "outputs": [
        {
          "output_type": "stream",
          "name": "stdout",
          "text": [
            "+---------+-------------+\n",
            "| Cold    |   phi(Cold) |\n",
            "+=========+=============+\n",
            "| Cold(T) |      0.0200 |\n",
            "+---------+-------------+\n",
            "| Cold(F) |      0.9800 |\n",
            "+---------+-------------+\n",
            "+---------+-------------+\n",
            "| Cold    |   phi(Cold) |\n",
            "+=========+=============+\n",
            "| Cold(T) |      0.3381 |\n",
            "+---------+-------------+\n",
            "| Cold(F) |      0.6619 |\n",
            "+---------+-------------+\n"
          ]
        }
      ],
      "source": [
        "# Your code\n",
        "dist = infer.query(['Cold'])\n",
        "print(dist)\n",
        "\n",
        "dist = infer.query(['Cold'], evidence={'Cough':'T'})\n",
        "print(dist)"
      ]
    },
    {
      "cell_type": "markdown",
      "source": [
        "Having the knowledge that the person is coughing increase the probability that the person has Cold."
      ],
      "metadata": {
        "id": "HLqOJGHVfIL5"
      }
    },
    {
      "cell_type": "markdown",
      "metadata": {
        "id": "0GO6n8lReDxR"
      },
      "source": [
        "##### 3. Does having the knowledge that the person is coughing increase the probability that there is Fever? [5]"
      ]
    },
    {
      "cell_type": "code",
      "execution_count": null,
      "metadata": {
        "scrolled": true,
        "id": "S_SAC0x_eDxR",
        "colab": {
          "base_uri": "https://localhost:8080/"
        },
        "outputId": "a9aa1b41-7c93-4262-e2eb-5ccbf9fa3cab"
      },
      "outputs": [
        {
          "output_type": "stream",
          "name": "stdout",
          "text": [
            "+----------+--------------+\n",
            "| Fever    |   phi(Fever) |\n",
            "+==========+==============+\n",
            "| Fever(T) |       0.0159 |\n",
            "+----------+--------------+\n",
            "| Fever(F) |       0.9841 |\n",
            "+----------+--------------+\n",
            "+----------+--------------+\n",
            "| Fever    |   phi(Fever) |\n",
            "+==========+==============+\n",
            "| Fever(T) |       0.1104 |\n",
            "+----------+--------------+\n",
            "| Fever(F) |       0.8896 |\n",
            "+----------+--------------+\n"
          ]
        }
      ],
      "source": [
        "# Your code\n",
        "dist = infer.query(['Fever'])\n",
        "print(dist)\n",
        "\n",
        "dist = infer.query(['Fever'], evidence={'Cough':'T'})\n",
        "print(dist)"
      ]
    },
    {
      "cell_type": "markdown",
      "source": [
        "Having the knowledge that the person is coughing increase the probability that there is Fever. "
      ],
      "metadata": {
        "id": "glewgztkfYyQ"
      }
    },
    {
      "cell_type": "markdown",
      "metadata": {
        "id": "8oVvoSRVeDxR"
      },
      "source": [
        "##### 4. Does having the knowledge that the person is coughing increase the probability that there is Fever, given the person has Cold?"
      ]
    },
    {
      "cell_type": "code",
      "execution_count": null,
      "metadata": {
        "id": "8Lzzp64seDxR",
        "colab": {
          "base_uri": "https://localhost:8080/"
        },
        "outputId": "be5b7b31-92d1-4fdf-970a-00233eba395c"
      },
      "outputs": [
        {
          "output_type": "stream",
          "name": "stdout",
          "text": [
            "+----------+--------------+\n",
            "| Fever    |   phi(Fever) |\n",
            "+==========+==============+\n",
            "| Fever(T) |       0.0159 |\n",
            "+----------+--------------+\n",
            "| Fever(F) |       0.9841 |\n",
            "+----------+--------------+\n",
            "+----------+--------------+\n",
            "| Fever    |   phi(Fever) |\n",
            "+==========+==============+\n",
            "| Fever(T) |       0.3070 |\n",
            "+----------+--------------+\n",
            "| Fever(F) |       0.6930 |\n",
            "+----------+--------------+\n",
            "+----------+--------------+\n",
            "| Fever    |   phi(Fever) |\n",
            "+==========+==============+\n",
            "| Fever(T) |       0.3070 |\n",
            "+----------+--------------+\n",
            "| Fever(F) |       0.6930 |\n",
            "+----------+--------------+\n"
          ]
        }
      ],
      "source": [
        "# Your code\n",
        "dist = infer.query(['Fever'])\n",
        "print(dist)\n",
        "\n",
        "dist = infer.query(['Fever'], evidence={'Cold': 'T'})\n",
        "print(dist)\n",
        "\n",
        "dist = infer.query(['Fever'], evidence={'Cold': 'T', 'Cough':'T'})\n",
        "print(dist)"
      ]
    },
    {
      "cell_type": "markdown",
      "source": [
        "Having the knowledge that the person is coughing does not increase the probability that there is Fever, given the person has Cold. "
      ],
      "metadata": {
        "id": "0APpSW-qfqsC"
      }
    },
    {
      "cell_type": "markdown",
      "metadata": {
        "id": "dbazdinMeDxR"
      },
      "source": [
        "##### 5. Does having the knowledge that the person has Fever increase the probability that there is Lung Disease?"
      ]
    },
    {
      "cell_type": "code",
      "execution_count": null,
      "metadata": {
        "id": "j3uVFzseeDxR",
        "colab": {
          "base_uri": "https://localhost:8080/"
        },
        "outputId": "b9fa4162-5697-4da1-fbf2-7897bfdd672c"
      },
      "outputs": [
        {
          "output_type": "stream",
          "name": "stdout",
          "text": [
            "+----------------+--------------------+\n",
            "| LungDisease    |   phi(LungDisease) |\n",
            "+================+====================+\n",
            "| LungDisease(T) |             0.0210 |\n",
            "+----------------+--------------------+\n",
            "| LungDisease(F) |             0.9790 |\n",
            "+----------------+--------------------+\n",
            "+----------------+--------------------+\n",
            "| LungDisease    |   phi(LungDisease) |\n",
            "+================+====================+\n",
            "| LungDisease(T) |             0.0210 |\n",
            "+----------------+--------------------+\n",
            "| LungDisease(F) |             0.9790 |\n",
            "+----------------+--------------------+\n"
          ]
        }
      ],
      "source": [
        "# Your code\n",
        "dist = infer.query(['LungDisease'])\n",
        "print(dist)\n",
        "\n",
        "dist = infer.query(['LungDisease'], evidence={'Fever':'T'})\n",
        "print(dist)"
      ]
    },
    {
      "cell_type": "markdown",
      "source": [
        "Having the knowledge that the person has Fever does not increase the probability that there is LungDisease. "
      ],
      "metadata": {
        "id": "rRbfq7ZXgCzo"
      }
    },
    {
      "cell_type": "markdown",
      "metadata": {
        "id": "UwjzCIE_eDxS"
      },
      "source": [
        "## Q10 [5]\n",
        "1. What's the most probable state of Cough? \n",
        "2. What's the most probable state of Cough given Cold is True? \n",
        "3. What's the most probable state of Cough given Cold is True and Lung Disease is True?"
      ]
    },
    {
      "cell_type": "markdown",
      "metadata": {
        "id": "q8FvKOQEeDxS"
      },
      "source": [
        "##### 1. What's the most probable state of Cough? "
      ]
    },
    {
      "cell_type": "code",
      "execution_count": null,
      "metadata": {
        "id": "2Xh1-tL6eDxS",
        "outputId": "0ae167b7-433f-4af6-b4e5-fde1c09c770f",
        "colab": {
          "base_uri": "https://localhost:8080/",
          "height": 98,
          "referenced_widgets": [
            "5afc691c9a8b41a39a42206748bc9920",
            "285b5fa289994d20ac9c8d5cee3f0801",
            "d0766f11d7f84e19a658003828f2d0c6",
            "f6209e5b34d94a379324e062e7e481b1",
            "087ebdc3cd2842d0bdc0f0caf9787946",
            "22b09f39cc254138b4269987574e671a",
            "e83e186ccd524a03995c289089b35d91",
            "927e12936e6a48808bb34d4515daf42c",
            "58b2d74c070549b28ea2f4479801f1bf",
            "a683f4db318a47d697ed6f2aeeeedc9c",
            "038d0357006d4291a2418d5b8d73534f",
            "379abaee569f4c579a52b11a82aba1a3",
            "7bce8dfe5a3a4f3ab4bf0aa67897df20",
            "979855de792b46d7b536eae6cd7b3421",
            "9e6231c1eb884a6bba7d73bf3a2ce5d9",
            "adf56cb06b504c9386bd52dae7eb8d8f",
            "2048a5a815104a7c9a1852b1532a948b",
            "c843bf3f79ae49cca54080a748ab8cda",
            "70d99e1c0ef34ee188d7393b2f92ddfd",
            "4a8404652a7e4473acff2b6d23494244",
            "16fa3b8044964dc18d325aee01f626ca",
            "588c356ff5694711b2ecc4f758e506e1"
          ]
        }
      },
      "outputs": [
        {
          "output_type": "display_data",
          "data": {
            "text/plain": [
              "  0%|          | 0/3 [00:00<?, ?it/s]"
            ],
            "application/vnd.jupyter.widget-view+json": {
              "version_major": 2,
              "version_minor": 0,
              "model_id": "5afc691c9a8b41a39a42206748bc9920"
            }
          },
          "metadata": {}
        },
        {
          "output_type": "display_data",
          "data": {
            "text/plain": [
              "  0%|          | 0/3 [00:00<?, ?it/s]"
            ],
            "application/vnd.jupyter.widget-view+json": {
              "version_major": 2,
              "version_minor": 0,
              "model_id": "379abaee569f4c579a52b11a82aba1a3"
            }
          },
          "metadata": {}
        },
        {
          "output_type": "execute_result",
          "data": {
            "text/plain": [
              "{'Cough': 'F'}"
            ]
          },
          "metadata": {},
          "execution_count": 50
        }
      ],
      "source": [
        "infer.map_query(['Cough'])"
      ]
    },
    {
      "cell_type": "markdown",
      "metadata": {
        "id": "Tn5N0xYfeDxS"
      },
      "source": [
        "The most probable state of Cough is False."
      ]
    },
    {
      "cell_type": "markdown",
      "metadata": {
        "id": "VwtyhXAneDxS"
      },
      "source": [
        "##### 2. What's the most probable state of Cough given Cold is True? "
      ]
    },
    {
      "cell_type": "code",
      "execution_count": null,
      "metadata": {
        "id": "UBpmFtkdeDxS",
        "colab": {
          "base_uri": "https://localhost:8080/",
          "height": 98,
          "referenced_widgets": [
            "2b8f3757eb154406a88c65999c848b68",
            "56274876339a494e87a868eacd866fd0",
            "614e2f9271ef49a6b65c0f62ae9d05c8",
            "a0b0fc18a4a54d95988a2cb9879417e9",
            "4c6dbf8408b44c0f941fd8b42d8e4cdc",
            "f98d0d5f596f42cab17e30d91ce49ae9",
            "f1841975b6f5441487055f107215f8fe",
            "3156f852aba14ed2a875cde201abbd1f",
            "3a62746bcba54e54a7b43eef0d0cfcf5",
            "d884d3f966ab4e1099997cfcf3cdc69e",
            "8d40dabf08564ffc9e86f7d6c5e6dc46",
            "815a74cb0914475ba69db5599dae56df",
            "5be69ed1aaec467da4879f014abf7572",
            "15b763efbe6147afadb3d794949a78a4",
            "0452066aadc143bbb4dc94325ccf8517",
            "d99ecf3b7750409eb7be3b7d0d7bda7d",
            "dbfa1b46968548708f9eb893f161ba93",
            "00e2c6b5a2904f069b2392c84c1bba75",
            "a7b225daf8414145a74e85453567eccb",
            "76fc63598cc34cafba54e596e111df71",
            "83a89619f50e4c75b96da1c3f21bab19",
            "9b4f6ca00a144489961bca543ac3a7d3"
          ]
        },
        "outputId": "49cd7542-e040-444e-b416-730a5c18fbcf"
      },
      "outputs": [
        {
          "output_type": "display_data",
          "data": {
            "text/plain": [
              "  0%|          | 0/2 [00:00<?, ?it/s]"
            ],
            "application/vnd.jupyter.widget-view+json": {
              "version_major": 2,
              "version_minor": 0,
              "model_id": "2b8f3757eb154406a88c65999c848b68"
            }
          },
          "metadata": {}
        },
        {
          "output_type": "display_data",
          "data": {
            "text/plain": [
              "  0%|          | 0/2 [00:00<?, ?it/s]"
            ],
            "application/vnd.jupyter.widget-view+json": {
              "version_major": 2,
              "version_minor": 0,
              "model_id": "815a74cb0914475ba69db5599dae56df"
            }
          },
          "metadata": {}
        },
        {
          "output_type": "stream",
          "name": "stdout",
          "text": [
            "{'Cough': 'T'}\n"
          ]
        }
      ],
      "source": [
        "# Your code\n",
        "dist = infer.map_query(['Cough'], evidence={'Cold':'T'})\n",
        "print(dist)"
      ]
    },
    {
      "cell_type": "markdown",
      "source": [
        "The most probable state of Cough given Cold is True. "
      ],
      "metadata": {
        "id": "Zmt79BwRgPoI"
      }
    },
    {
      "cell_type": "markdown",
      "metadata": {
        "id": "uqw78PffeDxS"
      },
      "source": [
        "##### 3. What's the most probable state of Cough given Cold is True and Lung Disease is True?"
      ]
    },
    {
      "cell_type": "code",
      "execution_count": null,
      "metadata": {
        "id": "gMJdg243eDxS",
        "colab": {
          "base_uri": "https://localhost:8080/",
          "height": 98,
          "referenced_widgets": [
            "6aa5d12b9c544fc1937cd4ed4149c891",
            "ea1e8cb9ec614a4b8fd229c7ed6431da",
            "a1c72ec88a7042db95aa2ae270c3e2dd",
            "11bd2915514d4ba088bc725eac0fd923",
            "081e334c870e485d93011d4aaf046649",
            "fecdbec2f51b458e8adfa6e5752ebc7f",
            "946508b21ffc41fe9da0d91e112af5b1",
            "4c80fca80a0a41f4b26c062aae9f6760",
            "bdac89e2952d415d8b34163fb537d9a9",
            "76b93adec3b841d68a016b0e521d8635",
            "b7022bd75b1c44629a82b29f44ba8dfb",
            "97088a6a457c43878a3fc6a78ec864de",
            "3431179f41cd4b358f2323b2ed5ff158",
            "709b17b8e81a4d058ee3eead7cdfbb06",
            "51c89c2b2b9445dc9fc43e407f6eb55a",
            "b19b60f9f6964b87a81c31364b491ca2",
            "bc395469461341fe808011f78cf93682",
            "caad7a2192154e9ca038ba1cb1ec263c",
            "d71ad1dc5a314774b07def6638842af6",
            "5fc01f5d87124ed5ad32b3005adca91b",
            "42d57acd0a9047838e984fddd4f38766",
            "8831907e8c74438e9f46f04a3052b1b8"
          ]
        },
        "outputId": "02f0bb56-19b1-4d11-e2d1-54e8a8d244ec"
      },
      "outputs": [
        {
          "output_type": "display_data",
          "data": {
            "text/plain": [
              "0it [00:00, ?it/s]"
            ],
            "application/vnd.jupyter.widget-view+json": {
              "version_major": 2,
              "version_minor": 0,
              "model_id": "6aa5d12b9c544fc1937cd4ed4149c891"
            }
          },
          "metadata": {}
        },
        {
          "output_type": "display_data",
          "data": {
            "text/plain": [
              "0it [00:00, ?it/s]"
            ],
            "application/vnd.jupyter.widget-view+json": {
              "version_major": 2,
              "version_minor": 0,
              "model_id": "97088a6a457c43878a3fc6a78ec864de"
            }
          },
          "metadata": {}
        },
        {
          "output_type": "stream",
          "name": "stdout",
          "text": [
            "{'Cough': 'T'}\n"
          ]
        }
      ],
      "source": [
        "# Your code\n",
        "dist = infer.map_query(['Cough'], evidence={'Cold':'T', 'LungDisease':'T'})\n",
        "print(dist)"
      ]
    },
    {
      "cell_type": "markdown",
      "source": [
        "The most ptobable state of Cough given Cold and LungDisease are True. \n",
        "\n",
        "---\n",
        "\n"
      ],
      "metadata": {
        "id": "SXxxvwGXgaOq"
      }
    },
    {
      "cell_type": "code",
      "execution_count": null,
      "metadata": {
        "id": "WdgqfHvJeDxS"
      },
      "outputs": [],
      "source": []
    },
    {
      "cell_type": "markdown",
      "metadata": {
        "id": "ozOnuKZZeDxT"
      },
      "source": [
        "# Well done!"
      ]
    }
  ],
  "metadata": {
    "kernelspec": {
      "display_name": "Python 3 (ipykernel)",
      "language": "python",
      "name": "python3"
    },
    "language_info": {
      "codemirror_mode": {
        "name": "ipython",
        "version": 3
      },
      "file_extension": ".py",
      "mimetype": "text/x-python",
      "name": "python",
      "nbconvert_exporter": "python",
      "pygments_lexer": "ipython3",
      "version": "3.10.0"
    },
    "toc": {
      "base_numbering": 1,
      "nav_menu": {},
      "number_sections": false,
      "sideBar": false,
      "skip_h1_title": false,
      "title_cell": "Table of Contents",
      "title_sidebar": "Contents",
      "toc_cell": false,
      "toc_position": {},
      "toc_section_display": false,
      "toc_window_display": false
    },
    "colab": {
      "provenance": [],
      "include_colab_link": true
    },
    "widgets": {
      "application/vnd.jupyter.widget-state+json": {
        "5afc691c9a8b41a39a42206748bc9920": {
          "model_module": "@jupyter-widgets/controls",
          "model_name": "HBoxModel",
          "model_module_version": "1.5.0",
          "state": {
            "_dom_classes": [],
            "_model_module": "@jupyter-widgets/controls",
            "_model_module_version": "1.5.0",
            "_model_name": "HBoxModel",
            "_view_count": null,
            "_view_module": "@jupyter-widgets/controls",
            "_view_module_version": "1.5.0",
            "_view_name": "HBoxView",
            "box_style": "",
            "children": [
              "IPY_MODEL_285b5fa289994d20ac9c8d5cee3f0801",
              "IPY_MODEL_d0766f11d7f84e19a658003828f2d0c6",
              "IPY_MODEL_f6209e5b34d94a379324e062e7e481b1"
            ],
            "layout": "IPY_MODEL_087ebdc3cd2842d0bdc0f0caf9787946"
          }
        },
        "285b5fa289994d20ac9c8d5cee3f0801": {
          "model_module": "@jupyter-widgets/controls",
          "model_name": "HTMLModel",
          "model_module_version": "1.5.0",
          "state": {
            "_dom_classes": [],
            "_model_module": "@jupyter-widgets/controls",
            "_model_module_version": "1.5.0",
            "_model_name": "HTMLModel",
            "_view_count": null,
            "_view_module": "@jupyter-widgets/controls",
            "_view_module_version": "1.5.0",
            "_view_name": "HTMLView",
            "description": "",
            "description_tooltip": null,
            "layout": "IPY_MODEL_22b09f39cc254138b4269987574e671a",
            "placeholder": "​",
            "style": "IPY_MODEL_e83e186ccd524a03995c289089b35d91",
            "value": "Finding Elimination Order: : 100%"
          }
        },
        "d0766f11d7f84e19a658003828f2d0c6": {
          "model_module": "@jupyter-widgets/controls",
          "model_name": "FloatProgressModel",
          "model_module_version": "1.5.0",
          "state": {
            "_dom_classes": [],
            "_model_module": "@jupyter-widgets/controls",
            "_model_module_version": "1.5.0",
            "_model_name": "FloatProgressModel",
            "_view_count": null,
            "_view_module": "@jupyter-widgets/controls",
            "_view_module_version": "1.5.0",
            "_view_name": "ProgressView",
            "bar_style": "success",
            "description": "",
            "description_tooltip": null,
            "layout": "IPY_MODEL_927e12936e6a48808bb34d4515daf42c",
            "max": 3,
            "min": 0,
            "orientation": "horizontal",
            "style": "IPY_MODEL_58b2d74c070549b28ea2f4479801f1bf",
            "value": 3
          }
        },
        "f6209e5b34d94a379324e062e7e481b1": {
          "model_module": "@jupyter-widgets/controls",
          "model_name": "HTMLModel",
          "model_module_version": "1.5.0",
          "state": {
            "_dom_classes": [],
            "_model_module": "@jupyter-widgets/controls",
            "_model_module_version": "1.5.0",
            "_model_name": "HTMLModel",
            "_view_count": null,
            "_view_module": "@jupyter-widgets/controls",
            "_view_module_version": "1.5.0",
            "_view_name": "HTMLView",
            "description": "",
            "description_tooltip": null,
            "layout": "IPY_MODEL_a683f4db318a47d697ed6f2aeeeedc9c",
            "placeholder": "​",
            "style": "IPY_MODEL_038d0357006d4291a2418d5b8d73534f",
            "value": " 3/3 [00:22&lt;00:00,  7.47s/it]"
          }
        },
        "087ebdc3cd2842d0bdc0f0caf9787946": {
          "model_module": "@jupyter-widgets/base",
          "model_name": "LayoutModel",
          "model_module_version": "1.2.0",
          "state": {
            "_model_module": "@jupyter-widgets/base",
            "_model_module_version": "1.2.0",
            "_model_name": "LayoutModel",
            "_view_count": null,
            "_view_module": "@jupyter-widgets/base",
            "_view_module_version": "1.2.0",
            "_view_name": "LayoutView",
            "align_content": null,
            "align_items": null,
            "align_self": null,
            "border": null,
            "bottom": null,
            "display": null,
            "flex": null,
            "flex_flow": null,
            "grid_area": null,
            "grid_auto_columns": null,
            "grid_auto_flow": null,
            "grid_auto_rows": null,
            "grid_column": null,
            "grid_gap": null,
            "grid_row": null,
            "grid_template_areas": null,
            "grid_template_columns": null,
            "grid_template_rows": null,
            "height": null,
            "justify_content": null,
            "justify_items": null,
            "left": null,
            "margin": null,
            "max_height": null,
            "max_width": null,
            "min_height": null,
            "min_width": null,
            "object_fit": null,
            "object_position": null,
            "order": null,
            "overflow": null,
            "overflow_x": null,
            "overflow_y": null,
            "padding": null,
            "right": null,
            "top": null,
            "visibility": null,
            "width": null
          }
        },
        "22b09f39cc254138b4269987574e671a": {
          "model_module": "@jupyter-widgets/base",
          "model_name": "LayoutModel",
          "model_module_version": "1.2.0",
          "state": {
            "_model_module": "@jupyter-widgets/base",
            "_model_module_version": "1.2.0",
            "_model_name": "LayoutModel",
            "_view_count": null,
            "_view_module": "@jupyter-widgets/base",
            "_view_module_version": "1.2.0",
            "_view_name": "LayoutView",
            "align_content": null,
            "align_items": null,
            "align_self": null,
            "border": null,
            "bottom": null,
            "display": null,
            "flex": null,
            "flex_flow": null,
            "grid_area": null,
            "grid_auto_columns": null,
            "grid_auto_flow": null,
            "grid_auto_rows": null,
            "grid_column": null,
            "grid_gap": null,
            "grid_row": null,
            "grid_template_areas": null,
            "grid_template_columns": null,
            "grid_template_rows": null,
            "height": null,
            "justify_content": null,
            "justify_items": null,
            "left": null,
            "margin": null,
            "max_height": null,
            "max_width": null,
            "min_height": null,
            "min_width": null,
            "object_fit": null,
            "object_position": null,
            "order": null,
            "overflow": null,
            "overflow_x": null,
            "overflow_y": null,
            "padding": null,
            "right": null,
            "top": null,
            "visibility": null,
            "width": null
          }
        },
        "e83e186ccd524a03995c289089b35d91": {
          "model_module": "@jupyter-widgets/controls",
          "model_name": "DescriptionStyleModel",
          "model_module_version": "1.5.0",
          "state": {
            "_model_module": "@jupyter-widgets/controls",
            "_model_module_version": "1.5.0",
            "_model_name": "DescriptionStyleModel",
            "_view_count": null,
            "_view_module": "@jupyter-widgets/base",
            "_view_module_version": "1.2.0",
            "_view_name": "StyleView",
            "description_width": ""
          }
        },
        "927e12936e6a48808bb34d4515daf42c": {
          "model_module": "@jupyter-widgets/base",
          "model_name": "LayoutModel",
          "model_module_version": "1.2.0",
          "state": {
            "_model_module": "@jupyter-widgets/base",
            "_model_module_version": "1.2.0",
            "_model_name": "LayoutModel",
            "_view_count": null,
            "_view_module": "@jupyter-widgets/base",
            "_view_module_version": "1.2.0",
            "_view_name": "LayoutView",
            "align_content": null,
            "align_items": null,
            "align_self": null,
            "border": null,
            "bottom": null,
            "display": null,
            "flex": null,
            "flex_flow": null,
            "grid_area": null,
            "grid_auto_columns": null,
            "grid_auto_flow": null,
            "grid_auto_rows": null,
            "grid_column": null,
            "grid_gap": null,
            "grid_row": null,
            "grid_template_areas": null,
            "grid_template_columns": null,
            "grid_template_rows": null,
            "height": null,
            "justify_content": null,
            "justify_items": null,
            "left": null,
            "margin": null,
            "max_height": null,
            "max_width": null,
            "min_height": null,
            "min_width": null,
            "object_fit": null,
            "object_position": null,
            "order": null,
            "overflow": null,
            "overflow_x": null,
            "overflow_y": null,
            "padding": null,
            "right": null,
            "top": null,
            "visibility": null,
            "width": null
          }
        },
        "58b2d74c070549b28ea2f4479801f1bf": {
          "model_module": "@jupyter-widgets/controls",
          "model_name": "ProgressStyleModel",
          "model_module_version": "1.5.0",
          "state": {
            "_model_module": "@jupyter-widgets/controls",
            "_model_module_version": "1.5.0",
            "_model_name": "ProgressStyleModel",
            "_view_count": null,
            "_view_module": "@jupyter-widgets/base",
            "_view_module_version": "1.2.0",
            "_view_name": "StyleView",
            "bar_color": null,
            "description_width": ""
          }
        },
        "a683f4db318a47d697ed6f2aeeeedc9c": {
          "model_module": "@jupyter-widgets/base",
          "model_name": "LayoutModel",
          "model_module_version": "1.2.0",
          "state": {
            "_model_module": "@jupyter-widgets/base",
            "_model_module_version": "1.2.0",
            "_model_name": "LayoutModel",
            "_view_count": null,
            "_view_module": "@jupyter-widgets/base",
            "_view_module_version": "1.2.0",
            "_view_name": "LayoutView",
            "align_content": null,
            "align_items": null,
            "align_self": null,
            "border": null,
            "bottom": null,
            "display": null,
            "flex": null,
            "flex_flow": null,
            "grid_area": null,
            "grid_auto_columns": null,
            "grid_auto_flow": null,
            "grid_auto_rows": null,
            "grid_column": null,
            "grid_gap": null,
            "grid_row": null,
            "grid_template_areas": null,
            "grid_template_columns": null,
            "grid_template_rows": null,
            "height": null,
            "justify_content": null,
            "justify_items": null,
            "left": null,
            "margin": null,
            "max_height": null,
            "max_width": null,
            "min_height": null,
            "min_width": null,
            "object_fit": null,
            "object_position": null,
            "order": null,
            "overflow": null,
            "overflow_x": null,
            "overflow_y": null,
            "padding": null,
            "right": null,
            "top": null,
            "visibility": null,
            "width": null
          }
        },
        "038d0357006d4291a2418d5b8d73534f": {
          "model_module": "@jupyter-widgets/controls",
          "model_name": "DescriptionStyleModel",
          "model_module_version": "1.5.0",
          "state": {
            "_model_module": "@jupyter-widgets/controls",
            "_model_module_version": "1.5.0",
            "_model_name": "DescriptionStyleModel",
            "_view_count": null,
            "_view_module": "@jupyter-widgets/base",
            "_view_module_version": "1.2.0",
            "_view_name": "StyleView",
            "description_width": ""
          }
        },
        "379abaee569f4c579a52b11a82aba1a3": {
          "model_module": "@jupyter-widgets/controls",
          "model_name": "HBoxModel",
          "model_module_version": "1.5.0",
          "state": {
            "_dom_classes": [],
            "_model_module": "@jupyter-widgets/controls",
            "_model_module_version": "1.5.0",
            "_model_name": "HBoxModel",
            "_view_count": null,
            "_view_module": "@jupyter-widgets/controls",
            "_view_module_version": "1.5.0",
            "_view_name": "HBoxView",
            "box_style": "",
            "children": [
              "IPY_MODEL_7bce8dfe5a3a4f3ab4bf0aa67897df20",
              "IPY_MODEL_979855de792b46d7b536eae6cd7b3421",
              "IPY_MODEL_9e6231c1eb884a6bba7d73bf3a2ce5d9"
            ],
            "layout": "IPY_MODEL_adf56cb06b504c9386bd52dae7eb8d8f"
          }
        },
        "7bce8dfe5a3a4f3ab4bf0aa67897df20": {
          "model_module": "@jupyter-widgets/controls",
          "model_name": "HTMLModel",
          "model_module_version": "1.5.0",
          "state": {
            "_dom_classes": [],
            "_model_module": "@jupyter-widgets/controls",
            "_model_module_version": "1.5.0",
            "_model_name": "HTMLModel",
            "_view_count": null,
            "_view_module": "@jupyter-widgets/controls",
            "_view_module_version": "1.5.0",
            "_view_name": "HTMLView",
            "description": "",
            "description_tooltip": null,
            "layout": "IPY_MODEL_2048a5a815104a7c9a1852b1532a948b",
            "placeholder": "​",
            "style": "IPY_MODEL_c843bf3f79ae49cca54080a748ab8cda",
            "value": "Eliminating: LungDisease: 100%"
          }
        },
        "979855de792b46d7b536eae6cd7b3421": {
          "model_module": "@jupyter-widgets/controls",
          "model_name": "FloatProgressModel",
          "model_module_version": "1.5.0",
          "state": {
            "_dom_classes": [],
            "_model_module": "@jupyter-widgets/controls",
            "_model_module_version": "1.5.0",
            "_model_name": "FloatProgressModel",
            "_view_count": null,
            "_view_module": "@jupyter-widgets/controls",
            "_view_module_version": "1.5.0",
            "_view_name": "ProgressView",
            "bar_style": "success",
            "description": "",
            "description_tooltip": null,
            "layout": "IPY_MODEL_70d99e1c0ef34ee188d7393b2f92ddfd",
            "max": 3,
            "min": 0,
            "orientation": "horizontal",
            "style": "IPY_MODEL_4a8404652a7e4473acff2b6d23494244",
            "value": 3
          }
        },
        "9e6231c1eb884a6bba7d73bf3a2ce5d9": {
          "model_module": "@jupyter-widgets/controls",
          "model_name": "HTMLModel",
          "model_module_version": "1.5.0",
          "state": {
            "_dom_classes": [],
            "_model_module": "@jupyter-widgets/controls",
            "_model_module_version": "1.5.0",
            "_model_name": "HTMLModel",
            "_view_count": null,
            "_view_module": "@jupyter-widgets/controls",
            "_view_module_version": "1.5.0",
            "_view_name": "HTMLView",
            "description": "",
            "description_tooltip": null,
            "layout": "IPY_MODEL_16fa3b8044964dc18d325aee01f626ca",
            "placeholder": "​",
            "style": "IPY_MODEL_588c356ff5694711b2ecc4f758e506e1",
            "value": " 3/3 [00:00&lt;00:00, 83.79it/s]"
          }
        },
        "adf56cb06b504c9386bd52dae7eb8d8f": {
          "model_module": "@jupyter-widgets/base",
          "model_name": "LayoutModel",
          "model_module_version": "1.2.0",
          "state": {
            "_model_module": "@jupyter-widgets/base",
            "_model_module_version": "1.2.0",
            "_model_name": "LayoutModel",
            "_view_count": null,
            "_view_module": "@jupyter-widgets/base",
            "_view_module_version": "1.2.0",
            "_view_name": "LayoutView",
            "align_content": null,
            "align_items": null,
            "align_self": null,
            "border": null,
            "bottom": null,
            "display": null,
            "flex": null,
            "flex_flow": null,
            "grid_area": null,
            "grid_auto_columns": null,
            "grid_auto_flow": null,
            "grid_auto_rows": null,
            "grid_column": null,
            "grid_gap": null,
            "grid_row": null,
            "grid_template_areas": null,
            "grid_template_columns": null,
            "grid_template_rows": null,
            "height": null,
            "justify_content": null,
            "justify_items": null,
            "left": null,
            "margin": null,
            "max_height": null,
            "max_width": null,
            "min_height": null,
            "min_width": null,
            "object_fit": null,
            "object_position": null,
            "order": null,
            "overflow": null,
            "overflow_x": null,
            "overflow_y": null,
            "padding": null,
            "right": null,
            "top": null,
            "visibility": null,
            "width": null
          }
        },
        "2048a5a815104a7c9a1852b1532a948b": {
          "model_module": "@jupyter-widgets/base",
          "model_name": "LayoutModel",
          "model_module_version": "1.2.0",
          "state": {
            "_model_module": "@jupyter-widgets/base",
            "_model_module_version": "1.2.0",
            "_model_name": "LayoutModel",
            "_view_count": null,
            "_view_module": "@jupyter-widgets/base",
            "_view_module_version": "1.2.0",
            "_view_name": "LayoutView",
            "align_content": null,
            "align_items": null,
            "align_self": null,
            "border": null,
            "bottom": null,
            "display": null,
            "flex": null,
            "flex_flow": null,
            "grid_area": null,
            "grid_auto_columns": null,
            "grid_auto_flow": null,
            "grid_auto_rows": null,
            "grid_column": null,
            "grid_gap": null,
            "grid_row": null,
            "grid_template_areas": null,
            "grid_template_columns": null,
            "grid_template_rows": null,
            "height": null,
            "justify_content": null,
            "justify_items": null,
            "left": null,
            "margin": null,
            "max_height": null,
            "max_width": null,
            "min_height": null,
            "min_width": null,
            "object_fit": null,
            "object_position": null,
            "order": null,
            "overflow": null,
            "overflow_x": null,
            "overflow_y": null,
            "padding": null,
            "right": null,
            "top": null,
            "visibility": null,
            "width": null
          }
        },
        "c843bf3f79ae49cca54080a748ab8cda": {
          "model_module": "@jupyter-widgets/controls",
          "model_name": "DescriptionStyleModel",
          "model_module_version": "1.5.0",
          "state": {
            "_model_module": "@jupyter-widgets/controls",
            "_model_module_version": "1.5.0",
            "_model_name": "DescriptionStyleModel",
            "_view_count": null,
            "_view_module": "@jupyter-widgets/base",
            "_view_module_version": "1.2.0",
            "_view_name": "StyleView",
            "description_width": ""
          }
        },
        "70d99e1c0ef34ee188d7393b2f92ddfd": {
          "model_module": "@jupyter-widgets/base",
          "model_name": "LayoutModel",
          "model_module_version": "1.2.0",
          "state": {
            "_model_module": "@jupyter-widgets/base",
            "_model_module_version": "1.2.0",
            "_model_name": "LayoutModel",
            "_view_count": null,
            "_view_module": "@jupyter-widgets/base",
            "_view_module_version": "1.2.0",
            "_view_name": "LayoutView",
            "align_content": null,
            "align_items": null,
            "align_self": null,
            "border": null,
            "bottom": null,
            "display": null,
            "flex": null,
            "flex_flow": null,
            "grid_area": null,
            "grid_auto_columns": null,
            "grid_auto_flow": null,
            "grid_auto_rows": null,
            "grid_column": null,
            "grid_gap": null,
            "grid_row": null,
            "grid_template_areas": null,
            "grid_template_columns": null,
            "grid_template_rows": null,
            "height": null,
            "justify_content": null,
            "justify_items": null,
            "left": null,
            "margin": null,
            "max_height": null,
            "max_width": null,
            "min_height": null,
            "min_width": null,
            "object_fit": null,
            "object_position": null,
            "order": null,
            "overflow": null,
            "overflow_x": null,
            "overflow_y": null,
            "padding": null,
            "right": null,
            "top": null,
            "visibility": null,
            "width": null
          }
        },
        "4a8404652a7e4473acff2b6d23494244": {
          "model_module": "@jupyter-widgets/controls",
          "model_name": "ProgressStyleModel",
          "model_module_version": "1.5.0",
          "state": {
            "_model_module": "@jupyter-widgets/controls",
            "_model_module_version": "1.5.0",
            "_model_name": "ProgressStyleModel",
            "_view_count": null,
            "_view_module": "@jupyter-widgets/base",
            "_view_module_version": "1.2.0",
            "_view_name": "StyleView",
            "bar_color": null,
            "description_width": ""
          }
        },
        "16fa3b8044964dc18d325aee01f626ca": {
          "model_module": "@jupyter-widgets/base",
          "model_name": "LayoutModel",
          "model_module_version": "1.2.0",
          "state": {
            "_model_module": "@jupyter-widgets/base",
            "_model_module_version": "1.2.0",
            "_model_name": "LayoutModel",
            "_view_count": null,
            "_view_module": "@jupyter-widgets/base",
            "_view_module_version": "1.2.0",
            "_view_name": "LayoutView",
            "align_content": null,
            "align_items": null,
            "align_self": null,
            "border": null,
            "bottom": null,
            "display": null,
            "flex": null,
            "flex_flow": null,
            "grid_area": null,
            "grid_auto_columns": null,
            "grid_auto_flow": null,
            "grid_auto_rows": null,
            "grid_column": null,
            "grid_gap": null,
            "grid_row": null,
            "grid_template_areas": null,
            "grid_template_columns": null,
            "grid_template_rows": null,
            "height": null,
            "justify_content": null,
            "justify_items": null,
            "left": null,
            "margin": null,
            "max_height": null,
            "max_width": null,
            "min_height": null,
            "min_width": null,
            "object_fit": null,
            "object_position": null,
            "order": null,
            "overflow": null,
            "overflow_x": null,
            "overflow_y": null,
            "padding": null,
            "right": null,
            "top": null,
            "visibility": null,
            "width": null
          }
        },
        "588c356ff5694711b2ecc4f758e506e1": {
          "model_module": "@jupyter-widgets/controls",
          "model_name": "DescriptionStyleModel",
          "model_module_version": "1.5.0",
          "state": {
            "_model_module": "@jupyter-widgets/controls",
            "_model_module_version": "1.5.0",
            "_model_name": "DescriptionStyleModel",
            "_view_count": null,
            "_view_module": "@jupyter-widgets/base",
            "_view_module_version": "1.2.0",
            "_view_name": "StyleView",
            "description_width": ""
          }
        },
        "2b8f3757eb154406a88c65999c848b68": {
          "model_module": "@jupyter-widgets/controls",
          "model_name": "HBoxModel",
          "model_module_version": "1.5.0",
          "state": {
            "_dom_classes": [],
            "_model_module": "@jupyter-widgets/controls",
            "_model_module_version": "1.5.0",
            "_model_name": "HBoxModel",
            "_view_count": null,
            "_view_module": "@jupyter-widgets/controls",
            "_view_module_version": "1.5.0",
            "_view_name": "HBoxView",
            "box_style": "",
            "children": [
              "IPY_MODEL_56274876339a494e87a868eacd866fd0",
              "IPY_MODEL_614e2f9271ef49a6b65c0f62ae9d05c8",
              "IPY_MODEL_a0b0fc18a4a54d95988a2cb9879417e9"
            ],
            "layout": "IPY_MODEL_4c6dbf8408b44c0f941fd8b42d8e4cdc"
          }
        },
        "56274876339a494e87a868eacd866fd0": {
          "model_module": "@jupyter-widgets/controls",
          "model_name": "HTMLModel",
          "model_module_version": "1.5.0",
          "state": {
            "_dom_classes": [],
            "_model_module": "@jupyter-widgets/controls",
            "_model_module_version": "1.5.0",
            "_model_name": "HTMLModel",
            "_view_count": null,
            "_view_module": "@jupyter-widgets/controls",
            "_view_module_version": "1.5.0",
            "_view_name": "HTMLView",
            "description": "",
            "description_tooltip": null,
            "layout": "IPY_MODEL_f98d0d5f596f42cab17e30d91ce49ae9",
            "placeholder": "​",
            "style": "IPY_MODEL_f1841975b6f5441487055f107215f8fe",
            "value": "Finding Elimination Order: : 100%"
          }
        },
        "614e2f9271ef49a6b65c0f62ae9d05c8": {
          "model_module": "@jupyter-widgets/controls",
          "model_name": "FloatProgressModel",
          "model_module_version": "1.5.0",
          "state": {
            "_dom_classes": [],
            "_model_module": "@jupyter-widgets/controls",
            "_model_module_version": "1.5.0",
            "_model_name": "FloatProgressModel",
            "_view_count": null,
            "_view_module": "@jupyter-widgets/controls",
            "_view_module_version": "1.5.0",
            "_view_name": "ProgressView",
            "bar_style": "success",
            "description": "",
            "description_tooltip": null,
            "layout": "IPY_MODEL_3156f852aba14ed2a875cde201abbd1f",
            "max": 2,
            "min": 0,
            "orientation": "horizontal",
            "style": "IPY_MODEL_3a62746bcba54e54a7b43eef0d0cfcf5",
            "value": 2
          }
        },
        "a0b0fc18a4a54d95988a2cb9879417e9": {
          "model_module": "@jupyter-widgets/controls",
          "model_name": "HTMLModel",
          "model_module_version": "1.5.0",
          "state": {
            "_dom_classes": [],
            "_model_module": "@jupyter-widgets/controls",
            "_model_module_version": "1.5.0",
            "_model_name": "HTMLModel",
            "_view_count": null,
            "_view_module": "@jupyter-widgets/controls",
            "_view_module_version": "1.5.0",
            "_view_name": "HTMLView",
            "description": "",
            "description_tooltip": null,
            "layout": "IPY_MODEL_d884d3f966ab4e1099997cfcf3cdc69e",
            "placeholder": "​",
            "style": "IPY_MODEL_8d40dabf08564ffc9e86f7d6c5e6dc46",
            "value": " 2/2 [00:12&lt;00:00,  6.28s/it]"
          }
        },
        "4c6dbf8408b44c0f941fd8b42d8e4cdc": {
          "model_module": "@jupyter-widgets/base",
          "model_name": "LayoutModel",
          "model_module_version": "1.2.0",
          "state": {
            "_model_module": "@jupyter-widgets/base",
            "_model_module_version": "1.2.0",
            "_model_name": "LayoutModel",
            "_view_count": null,
            "_view_module": "@jupyter-widgets/base",
            "_view_module_version": "1.2.0",
            "_view_name": "LayoutView",
            "align_content": null,
            "align_items": null,
            "align_self": null,
            "border": null,
            "bottom": null,
            "display": null,
            "flex": null,
            "flex_flow": null,
            "grid_area": null,
            "grid_auto_columns": null,
            "grid_auto_flow": null,
            "grid_auto_rows": null,
            "grid_column": null,
            "grid_gap": null,
            "grid_row": null,
            "grid_template_areas": null,
            "grid_template_columns": null,
            "grid_template_rows": null,
            "height": null,
            "justify_content": null,
            "justify_items": null,
            "left": null,
            "margin": null,
            "max_height": null,
            "max_width": null,
            "min_height": null,
            "min_width": null,
            "object_fit": null,
            "object_position": null,
            "order": null,
            "overflow": null,
            "overflow_x": null,
            "overflow_y": null,
            "padding": null,
            "right": null,
            "top": null,
            "visibility": null,
            "width": null
          }
        },
        "f98d0d5f596f42cab17e30d91ce49ae9": {
          "model_module": "@jupyter-widgets/base",
          "model_name": "LayoutModel",
          "model_module_version": "1.2.0",
          "state": {
            "_model_module": "@jupyter-widgets/base",
            "_model_module_version": "1.2.0",
            "_model_name": "LayoutModel",
            "_view_count": null,
            "_view_module": "@jupyter-widgets/base",
            "_view_module_version": "1.2.0",
            "_view_name": "LayoutView",
            "align_content": null,
            "align_items": null,
            "align_self": null,
            "border": null,
            "bottom": null,
            "display": null,
            "flex": null,
            "flex_flow": null,
            "grid_area": null,
            "grid_auto_columns": null,
            "grid_auto_flow": null,
            "grid_auto_rows": null,
            "grid_column": null,
            "grid_gap": null,
            "grid_row": null,
            "grid_template_areas": null,
            "grid_template_columns": null,
            "grid_template_rows": null,
            "height": null,
            "justify_content": null,
            "justify_items": null,
            "left": null,
            "margin": null,
            "max_height": null,
            "max_width": null,
            "min_height": null,
            "min_width": null,
            "object_fit": null,
            "object_position": null,
            "order": null,
            "overflow": null,
            "overflow_x": null,
            "overflow_y": null,
            "padding": null,
            "right": null,
            "top": null,
            "visibility": null,
            "width": null
          }
        },
        "f1841975b6f5441487055f107215f8fe": {
          "model_module": "@jupyter-widgets/controls",
          "model_name": "DescriptionStyleModel",
          "model_module_version": "1.5.0",
          "state": {
            "_model_module": "@jupyter-widgets/controls",
            "_model_module_version": "1.5.0",
            "_model_name": "DescriptionStyleModel",
            "_view_count": null,
            "_view_module": "@jupyter-widgets/base",
            "_view_module_version": "1.2.0",
            "_view_name": "StyleView",
            "description_width": ""
          }
        },
        "3156f852aba14ed2a875cde201abbd1f": {
          "model_module": "@jupyter-widgets/base",
          "model_name": "LayoutModel",
          "model_module_version": "1.2.0",
          "state": {
            "_model_module": "@jupyter-widgets/base",
            "_model_module_version": "1.2.0",
            "_model_name": "LayoutModel",
            "_view_count": null,
            "_view_module": "@jupyter-widgets/base",
            "_view_module_version": "1.2.0",
            "_view_name": "LayoutView",
            "align_content": null,
            "align_items": null,
            "align_self": null,
            "border": null,
            "bottom": null,
            "display": null,
            "flex": null,
            "flex_flow": null,
            "grid_area": null,
            "grid_auto_columns": null,
            "grid_auto_flow": null,
            "grid_auto_rows": null,
            "grid_column": null,
            "grid_gap": null,
            "grid_row": null,
            "grid_template_areas": null,
            "grid_template_columns": null,
            "grid_template_rows": null,
            "height": null,
            "justify_content": null,
            "justify_items": null,
            "left": null,
            "margin": null,
            "max_height": null,
            "max_width": null,
            "min_height": null,
            "min_width": null,
            "object_fit": null,
            "object_position": null,
            "order": null,
            "overflow": null,
            "overflow_x": null,
            "overflow_y": null,
            "padding": null,
            "right": null,
            "top": null,
            "visibility": null,
            "width": null
          }
        },
        "3a62746bcba54e54a7b43eef0d0cfcf5": {
          "model_module": "@jupyter-widgets/controls",
          "model_name": "ProgressStyleModel",
          "model_module_version": "1.5.0",
          "state": {
            "_model_module": "@jupyter-widgets/controls",
            "_model_module_version": "1.5.0",
            "_model_name": "ProgressStyleModel",
            "_view_count": null,
            "_view_module": "@jupyter-widgets/base",
            "_view_module_version": "1.2.0",
            "_view_name": "StyleView",
            "bar_color": null,
            "description_width": ""
          }
        },
        "d884d3f966ab4e1099997cfcf3cdc69e": {
          "model_module": "@jupyter-widgets/base",
          "model_name": "LayoutModel",
          "model_module_version": "1.2.0",
          "state": {
            "_model_module": "@jupyter-widgets/base",
            "_model_module_version": "1.2.0",
            "_model_name": "LayoutModel",
            "_view_count": null,
            "_view_module": "@jupyter-widgets/base",
            "_view_module_version": "1.2.0",
            "_view_name": "LayoutView",
            "align_content": null,
            "align_items": null,
            "align_self": null,
            "border": null,
            "bottom": null,
            "display": null,
            "flex": null,
            "flex_flow": null,
            "grid_area": null,
            "grid_auto_columns": null,
            "grid_auto_flow": null,
            "grid_auto_rows": null,
            "grid_column": null,
            "grid_gap": null,
            "grid_row": null,
            "grid_template_areas": null,
            "grid_template_columns": null,
            "grid_template_rows": null,
            "height": null,
            "justify_content": null,
            "justify_items": null,
            "left": null,
            "margin": null,
            "max_height": null,
            "max_width": null,
            "min_height": null,
            "min_width": null,
            "object_fit": null,
            "object_position": null,
            "order": null,
            "overflow": null,
            "overflow_x": null,
            "overflow_y": null,
            "padding": null,
            "right": null,
            "top": null,
            "visibility": null,
            "width": null
          }
        },
        "8d40dabf08564ffc9e86f7d6c5e6dc46": {
          "model_module": "@jupyter-widgets/controls",
          "model_name": "DescriptionStyleModel",
          "model_module_version": "1.5.0",
          "state": {
            "_model_module": "@jupyter-widgets/controls",
            "_model_module_version": "1.5.0",
            "_model_name": "DescriptionStyleModel",
            "_view_count": null,
            "_view_module": "@jupyter-widgets/base",
            "_view_module_version": "1.2.0",
            "_view_name": "StyleView",
            "description_width": ""
          }
        },
        "815a74cb0914475ba69db5599dae56df": {
          "model_module": "@jupyter-widgets/controls",
          "model_name": "HBoxModel",
          "model_module_version": "1.5.0",
          "state": {
            "_dom_classes": [],
            "_model_module": "@jupyter-widgets/controls",
            "_model_module_version": "1.5.0",
            "_model_name": "HBoxModel",
            "_view_count": null,
            "_view_module": "@jupyter-widgets/controls",
            "_view_module_version": "1.5.0",
            "_view_name": "HBoxView",
            "box_style": "",
            "children": [
              "IPY_MODEL_5be69ed1aaec467da4879f014abf7572",
              "IPY_MODEL_15b763efbe6147afadb3d794949a78a4",
              "IPY_MODEL_0452066aadc143bbb4dc94325ccf8517"
            ],
            "layout": "IPY_MODEL_d99ecf3b7750409eb7be3b7d0d7bda7d"
          }
        },
        "5be69ed1aaec467da4879f014abf7572": {
          "model_module": "@jupyter-widgets/controls",
          "model_name": "HTMLModel",
          "model_module_version": "1.5.0",
          "state": {
            "_dom_classes": [],
            "_model_module": "@jupyter-widgets/controls",
            "_model_module_version": "1.5.0",
            "_model_name": "HTMLModel",
            "_view_count": null,
            "_view_module": "@jupyter-widgets/controls",
            "_view_module_version": "1.5.0",
            "_view_name": "HTMLView",
            "description": "",
            "description_tooltip": null,
            "layout": "IPY_MODEL_dbfa1b46968548708f9eb893f161ba93",
            "placeholder": "​",
            "style": "IPY_MODEL_00e2c6b5a2904f069b2392c84c1bba75",
            "value": "Eliminating: LungDisease: 100%"
          }
        },
        "15b763efbe6147afadb3d794949a78a4": {
          "model_module": "@jupyter-widgets/controls",
          "model_name": "FloatProgressModel",
          "model_module_version": "1.5.0",
          "state": {
            "_dom_classes": [],
            "_model_module": "@jupyter-widgets/controls",
            "_model_module_version": "1.5.0",
            "_model_name": "FloatProgressModel",
            "_view_count": null,
            "_view_module": "@jupyter-widgets/controls",
            "_view_module_version": "1.5.0",
            "_view_name": "ProgressView",
            "bar_style": "success",
            "description": "",
            "description_tooltip": null,
            "layout": "IPY_MODEL_a7b225daf8414145a74e85453567eccb",
            "max": 2,
            "min": 0,
            "orientation": "horizontal",
            "style": "IPY_MODEL_76fc63598cc34cafba54e596e111df71",
            "value": 2
          }
        },
        "0452066aadc143bbb4dc94325ccf8517": {
          "model_module": "@jupyter-widgets/controls",
          "model_name": "HTMLModel",
          "model_module_version": "1.5.0",
          "state": {
            "_dom_classes": [],
            "_model_module": "@jupyter-widgets/controls",
            "_model_module_version": "1.5.0",
            "_model_name": "HTMLModel",
            "_view_count": null,
            "_view_module": "@jupyter-widgets/controls",
            "_view_module_version": "1.5.0",
            "_view_name": "HTMLView",
            "description": "",
            "description_tooltip": null,
            "layout": "IPY_MODEL_83a89619f50e4c75b96da1c3f21bab19",
            "placeholder": "​",
            "style": "IPY_MODEL_9b4f6ca00a144489961bca543ac3a7d3",
            "value": " 2/2 [00:00&lt;00:00, 44.03it/s]"
          }
        },
        "d99ecf3b7750409eb7be3b7d0d7bda7d": {
          "model_module": "@jupyter-widgets/base",
          "model_name": "LayoutModel",
          "model_module_version": "1.2.0",
          "state": {
            "_model_module": "@jupyter-widgets/base",
            "_model_module_version": "1.2.0",
            "_model_name": "LayoutModel",
            "_view_count": null,
            "_view_module": "@jupyter-widgets/base",
            "_view_module_version": "1.2.0",
            "_view_name": "LayoutView",
            "align_content": null,
            "align_items": null,
            "align_self": null,
            "border": null,
            "bottom": null,
            "display": null,
            "flex": null,
            "flex_flow": null,
            "grid_area": null,
            "grid_auto_columns": null,
            "grid_auto_flow": null,
            "grid_auto_rows": null,
            "grid_column": null,
            "grid_gap": null,
            "grid_row": null,
            "grid_template_areas": null,
            "grid_template_columns": null,
            "grid_template_rows": null,
            "height": null,
            "justify_content": null,
            "justify_items": null,
            "left": null,
            "margin": null,
            "max_height": null,
            "max_width": null,
            "min_height": null,
            "min_width": null,
            "object_fit": null,
            "object_position": null,
            "order": null,
            "overflow": null,
            "overflow_x": null,
            "overflow_y": null,
            "padding": null,
            "right": null,
            "top": null,
            "visibility": null,
            "width": null
          }
        },
        "dbfa1b46968548708f9eb893f161ba93": {
          "model_module": "@jupyter-widgets/base",
          "model_name": "LayoutModel",
          "model_module_version": "1.2.0",
          "state": {
            "_model_module": "@jupyter-widgets/base",
            "_model_module_version": "1.2.0",
            "_model_name": "LayoutModel",
            "_view_count": null,
            "_view_module": "@jupyter-widgets/base",
            "_view_module_version": "1.2.0",
            "_view_name": "LayoutView",
            "align_content": null,
            "align_items": null,
            "align_self": null,
            "border": null,
            "bottom": null,
            "display": null,
            "flex": null,
            "flex_flow": null,
            "grid_area": null,
            "grid_auto_columns": null,
            "grid_auto_flow": null,
            "grid_auto_rows": null,
            "grid_column": null,
            "grid_gap": null,
            "grid_row": null,
            "grid_template_areas": null,
            "grid_template_columns": null,
            "grid_template_rows": null,
            "height": null,
            "justify_content": null,
            "justify_items": null,
            "left": null,
            "margin": null,
            "max_height": null,
            "max_width": null,
            "min_height": null,
            "min_width": null,
            "object_fit": null,
            "object_position": null,
            "order": null,
            "overflow": null,
            "overflow_x": null,
            "overflow_y": null,
            "padding": null,
            "right": null,
            "top": null,
            "visibility": null,
            "width": null
          }
        },
        "00e2c6b5a2904f069b2392c84c1bba75": {
          "model_module": "@jupyter-widgets/controls",
          "model_name": "DescriptionStyleModel",
          "model_module_version": "1.5.0",
          "state": {
            "_model_module": "@jupyter-widgets/controls",
            "_model_module_version": "1.5.0",
            "_model_name": "DescriptionStyleModel",
            "_view_count": null,
            "_view_module": "@jupyter-widgets/base",
            "_view_module_version": "1.2.0",
            "_view_name": "StyleView",
            "description_width": ""
          }
        },
        "a7b225daf8414145a74e85453567eccb": {
          "model_module": "@jupyter-widgets/base",
          "model_name": "LayoutModel",
          "model_module_version": "1.2.0",
          "state": {
            "_model_module": "@jupyter-widgets/base",
            "_model_module_version": "1.2.0",
            "_model_name": "LayoutModel",
            "_view_count": null,
            "_view_module": "@jupyter-widgets/base",
            "_view_module_version": "1.2.0",
            "_view_name": "LayoutView",
            "align_content": null,
            "align_items": null,
            "align_self": null,
            "border": null,
            "bottom": null,
            "display": null,
            "flex": null,
            "flex_flow": null,
            "grid_area": null,
            "grid_auto_columns": null,
            "grid_auto_flow": null,
            "grid_auto_rows": null,
            "grid_column": null,
            "grid_gap": null,
            "grid_row": null,
            "grid_template_areas": null,
            "grid_template_columns": null,
            "grid_template_rows": null,
            "height": null,
            "justify_content": null,
            "justify_items": null,
            "left": null,
            "margin": null,
            "max_height": null,
            "max_width": null,
            "min_height": null,
            "min_width": null,
            "object_fit": null,
            "object_position": null,
            "order": null,
            "overflow": null,
            "overflow_x": null,
            "overflow_y": null,
            "padding": null,
            "right": null,
            "top": null,
            "visibility": null,
            "width": null
          }
        },
        "76fc63598cc34cafba54e596e111df71": {
          "model_module": "@jupyter-widgets/controls",
          "model_name": "ProgressStyleModel",
          "model_module_version": "1.5.0",
          "state": {
            "_model_module": "@jupyter-widgets/controls",
            "_model_module_version": "1.5.0",
            "_model_name": "ProgressStyleModel",
            "_view_count": null,
            "_view_module": "@jupyter-widgets/base",
            "_view_module_version": "1.2.0",
            "_view_name": "StyleView",
            "bar_color": null,
            "description_width": ""
          }
        },
        "83a89619f50e4c75b96da1c3f21bab19": {
          "model_module": "@jupyter-widgets/base",
          "model_name": "LayoutModel",
          "model_module_version": "1.2.0",
          "state": {
            "_model_module": "@jupyter-widgets/base",
            "_model_module_version": "1.2.0",
            "_model_name": "LayoutModel",
            "_view_count": null,
            "_view_module": "@jupyter-widgets/base",
            "_view_module_version": "1.2.0",
            "_view_name": "LayoutView",
            "align_content": null,
            "align_items": null,
            "align_self": null,
            "border": null,
            "bottom": null,
            "display": null,
            "flex": null,
            "flex_flow": null,
            "grid_area": null,
            "grid_auto_columns": null,
            "grid_auto_flow": null,
            "grid_auto_rows": null,
            "grid_column": null,
            "grid_gap": null,
            "grid_row": null,
            "grid_template_areas": null,
            "grid_template_columns": null,
            "grid_template_rows": null,
            "height": null,
            "justify_content": null,
            "justify_items": null,
            "left": null,
            "margin": null,
            "max_height": null,
            "max_width": null,
            "min_height": null,
            "min_width": null,
            "object_fit": null,
            "object_position": null,
            "order": null,
            "overflow": null,
            "overflow_x": null,
            "overflow_y": null,
            "padding": null,
            "right": null,
            "top": null,
            "visibility": null,
            "width": null
          }
        },
        "9b4f6ca00a144489961bca543ac3a7d3": {
          "model_module": "@jupyter-widgets/controls",
          "model_name": "DescriptionStyleModel",
          "model_module_version": "1.5.0",
          "state": {
            "_model_module": "@jupyter-widgets/controls",
            "_model_module_version": "1.5.0",
            "_model_name": "DescriptionStyleModel",
            "_view_count": null,
            "_view_module": "@jupyter-widgets/base",
            "_view_module_version": "1.2.0",
            "_view_name": "StyleView",
            "description_width": ""
          }
        },
        "6aa5d12b9c544fc1937cd4ed4149c891": {
          "model_module": "@jupyter-widgets/controls",
          "model_name": "HBoxModel",
          "model_module_version": "1.5.0",
          "state": {
            "_dom_classes": [],
            "_model_module": "@jupyter-widgets/controls",
            "_model_module_version": "1.5.0",
            "_model_name": "HBoxModel",
            "_view_count": null,
            "_view_module": "@jupyter-widgets/controls",
            "_view_module_version": "1.5.0",
            "_view_name": "HBoxView",
            "box_style": "",
            "children": [
              "IPY_MODEL_ea1e8cb9ec614a4b8fd229c7ed6431da",
              "IPY_MODEL_a1c72ec88a7042db95aa2ae270c3e2dd",
              "IPY_MODEL_11bd2915514d4ba088bc725eac0fd923"
            ],
            "layout": "IPY_MODEL_081e334c870e485d93011d4aaf046649"
          }
        },
        "ea1e8cb9ec614a4b8fd229c7ed6431da": {
          "model_module": "@jupyter-widgets/controls",
          "model_name": "HTMLModel",
          "model_module_version": "1.5.0",
          "state": {
            "_dom_classes": [],
            "_model_module": "@jupyter-widgets/controls",
            "_model_module_version": "1.5.0",
            "_model_name": "HTMLModel",
            "_view_count": null,
            "_view_module": "@jupyter-widgets/controls",
            "_view_module_version": "1.5.0",
            "_view_name": "HTMLView",
            "description": "",
            "description_tooltip": null,
            "layout": "IPY_MODEL_fecdbec2f51b458e8adfa6e5752ebc7f",
            "placeholder": "​",
            "style": "IPY_MODEL_946508b21ffc41fe9da0d91e112af5b1",
            "value": "Finding Elimination Order: : "
          }
        },
        "a1c72ec88a7042db95aa2ae270c3e2dd": {
          "model_module": "@jupyter-widgets/controls",
          "model_name": "FloatProgressModel",
          "model_module_version": "1.5.0",
          "state": {
            "_dom_classes": [],
            "_model_module": "@jupyter-widgets/controls",
            "_model_module_version": "1.5.0",
            "_model_name": "FloatProgressModel",
            "_view_count": null,
            "_view_module": "@jupyter-widgets/controls",
            "_view_module_version": "1.5.0",
            "_view_name": "ProgressView",
            "bar_style": "success",
            "description": "",
            "description_tooltip": null,
            "layout": "IPY_MODEL_4c80fca80a0a41f4b26c062aae9f6760",
            "max": 1,
            "min": 0,
            "orientation": "horizontal",
            "style": "IPY_MODEL_bdac89e2952d415d8b34163fb537d9a9",
            "value": 0
          }
        },
        "11bd2915514d4ba088bc725eac0fd923": {
          "model_module": "@jupyter-widgets/controls",
          "model_name": "HTMLModel",
          "model_module_version": "1.5.0",
          "state": {
            "_dom_classes": [],
            "_model_module": "@jupyter-widgets/controls",
            "_model_module_version": "1.5.0",
            "_model_name": "HTMLModel",
            "_view_count": null,
            "_view_module": "@jupyter-widgets/controls",
            "_view_module_version": "1.5.0",
            "_view_name": "HTMLView",
            "description": "",
            "description_tooltip": null,
            "layout": "IPY_MODEL_76b93adec3b841d68a016b0e521d8635",
            "placeholder": "​",
            "style": "IPY_MODEL_b7022bd75b1c44629a82b29f44ba8dfb",
            "value": " 0/0 [00:00&lt;?, ?it/s]"
          }
        },
        "081e334c870e485d93011d4aaf046649": {
          "model_module": "@jupyter-widgets/base",
          "model_name": "LayoutModel",
          "model_module_version": "1.2.0",
          "state": {
            "_model_module": "@jupyter-widgets/base",
            "_model_module_version": "1.2.0",
            "_model_name": "LayoutModel",
            "_view_count": null,
            "_view_module": "@jupyter-widgets/base",
            "_view_module_version": "1.2.0",
            "_view_name": "LayoutView",
            "align_content": null,
            "align_items": null,
            "align_self": null,
            "border": null,
            "bottom": null,
            "display": null,
            "flex": null,
            "flex_flow": null,
            "grid_area": null,
            "grid_auto_columns": null,
            "grid_auto_flow": null,
            "grid_auto_rows": null,
            "grid_column": null,
            "grid_gap": null,
            "grid_row": null,
            "grid_template_areas": null,
            "grid_template_columns": null,
            "grid_template_rows": null,
            "height": null,
            "justify_content": null,
            "justify_items": null,
            "left": null,
            "margin": null,
            "max_height": null,
            "max_width": null,
            "min_height": null,
            "min_width": null,
            "object_fit": null,
            "object_position": null,
            "order": null,
            "overflow": null,
            "overflow_x": null,
            "overflow_y": null,
            "padding": null,
            "right": null,
            "top": null,
            "visibility": null,
            "width": null
          }
        },
        "fecdbec2f51b458e8adfa6e5752ebc7f": {
          "model_module": "@jupyter-widgets/base",
          "model_name": "LayoutModel",
          "model_module_version": "1.2.0",
          "state": {
            "_model_module": "@jupyter-widgets/base",
            "_model_module_version": "1.2.0",
            "_model_name": "LayoutModel",
            "_view_count": null,
            "_view_module": "@jupyter-widgets/base",
            "_view_module_version": "1.2.0",
            "_view_name": "LayoutView",
            "align_content": null,
            "align_items": null,
            "align_self": null,
            "border": null,
            "bottom": null,
            "display": null,
            "flex": null,
            "flex_flow": null,
            "grid_area": null,
            "grid_auto_columns": null,
            "grid_auto_flow": null,
            "grid_auto_rows": null,
            "grid_column": null,
            "grid_gap": null,
            "grid_row": null,
            "grid_template_areas": null,
            "grid_template_columns": null,
            "grid_template_rows": null,
            "height": null,
            "justify_content": null,
            "justify_items": null,
            "left": null,
            "margin": null,
            "max_height": null,
            "max_width": null,
            "min_height": null,
            "min_width": null,
            "object_fit": null,
            "object_position": null,
            "order": null,
            "overflow": null,
            "overflow_x": null,
            "overflow_y": null,
            "padding": null,
            "right": null,
            "top": null,
            "visibility": null,
            "width": null
          }
        },
        "946508b21ffc41fe9da0d91e112af5b1": {
          "model_module": "@jupyter-widgets/controls",
          "model_name": "DescriptionStyleModel",
          "model_module_version": "1.5.0",
          "state": {
            "_model_module": "@jupyter-widgets/controls",
            "_model_module_version": "1.5.0",
            "_model_name": "DescriptionStyleModel",
            "_view_count": null,
            "_view_module": "@jupyter-widgets/base",
            "_view_module_version": "1.2.0",
            "_view_name": "StyleView",
            "description_width": ""
          }
        },
        "4c80fca80a0a41f4b26c062aae9f6760": {
          "model_module": "@jupyter-widgets/base",
          "model_name": "LayoutModel",
          "model_module_version": "1.2.0",
          "state": {
            "_model_module": "@jupyter-widgets/base",
            "_model_module_version": "1.2.0",
            "_model_name": "LayoutModel",
            "_view_count": null,
            "_view_module": "@jupyter-widgets/base",
            "_view_module_version": "1.2.0",
            "_view_name": "LayoutView",
            "align_content": null,
            "align_items": null,
            "align_self": null,
            "border": null,
            "bottom": null,
            "display": null,
            "flex": null,
            "flex_flow": null,
            "grid_area": null,
            "grid_auto_columns": null,
            "grid_auto_flow": null,
            "grid_auto_rows": null,
            "grid_column": null,
            "grid_gap": null,
            "grid_row": null,
            "grid_template_areas": null,
            "grid_template_columns": null,
            "grid_template_rows": null,
            "height": null,
            "justify_content": null,
            "justify_items": null,
            "left": null,
            "margin": null,
            "max_height": null,
            "max_width": null,
            "min_height": null,
            "min_width": null,
            "object_fit": null,
            "object_position": null,
            "order": null,
            "overflow": null,
            "overflow_x": null,
            "overflow_y": null,
            "padding": null,
            "right": null,
            "top": null,
            "visibility": null,
            "width": "20px"
          }
        },
        "bdac89e2952d415d8b34163fb537d9a9": {
          "model_module": "@jupyter-widgets/controls",
          "model_name": "ProgressStyleModel",
          "model_module_version": "1.5.0",
          "state": {
            "_model_module": "@jupyter-widgets/controls",
            "_model_module_version": "1.5.0",
            "_model_name": "ProgressStyleModel",
            "_view_count": null,
            "_view_module": "@jupyter-widgets/base",
            "_view_module_version": "1.2.0",
            "_view_name": "StyleView",
            "bar_color": null,
            "description_width": ""
          }
        },
        "76b93adec3b841d68a016b0e521d8635": {
          "model_module": "@jupyter-widgets/base",
          "model_name": "LayoutModel",
          "model_module_version": "1.2.0",
          "state": {
            "_model_module": "@jupyter-widgets/base",
            "_model_module_version": "1.2.0",
            "_model_name": "LayoutModel",
            "_view_count": null,
            "_view_module": "@jupyter-widgets/base",
            "_view_module_version": "1.2.0",
            "_view_name": "LayoutView",
            "align_content": null,
            "align_items": null,
            "align_self": null,
            "border": null,
            "bottom": null,
            "display": null,
            "flex": null,
            "flex_flow": null,
            "grid_area": null,
            "grid_auto_columns": null,
            "grid_auto_flow": null,
            "grid_auto_rows": null,
            "grid_column": null,
            "grid_gap": null,
            "grid_row": null,
            "grid_template_areas": null,
            "grid_template_columns": null,
            "grid_template_rows": null,
            "height": null,
            "justify_content": null,
            "justify_items": null,
            "left": null,
            "margin": null,
            "max_height": null,
            "max_width": null,
            "min_height": null,
            "min_width": null,
            "object_fit": null,
            "object_position": null,
            "order": null,
            "overflow": null,
            "overflow_x": null,
            "overflow_y": null,
            "padding": null,
            "right": null,
            "top": null,
            "visibility": null,
            "width": null
          }
        },
        "b7022bd75b1c44629a82b29f44ba8dfb": {
          "model_module": "@jupyter-widgets/controls",
          "model_name": "DescriptionStyleModel",
          "model_module_version": "1.5.0",
          "state": {
            "_model_module": "@jupyter-widgets/controls",
            "_model_module_version": "1.5.0",
            "_model_name": "DescriptionStyleModel",
            "_view_count": null,
            "_view_module": "@jupyter-widgets/base",
            "_view_module_version": "1.2.0",
            "_view_name": "StyleView",
            "description_width": ""
          }
        },
        "97088a6a457c43878a3fc6a78ec864de": {
          "model_module": "@jupyter-widgets/controls",
          "model_name": "HBoxModel",
          "model_module_version": "1.5.0",
          "state": {
            "_dom_classes": [],
            "_model_module": "@jupyter-widgets/controls",
            "_model_module_version": "1.5.0",
            "_model_name": "HBoxModel",
            "_view_count": null,
            "_view_module": "@jupyter-widgets/controls",
            "_view_module_version": "1.5.0",
            "_view_name": "HBoxView",
            "box_style": "",
            "children": [
              "IPY_MODEL_3431179f41cd4b358f2323b2ed5ff158",
              "IPY_MODEL_709b17b8e81a4d058ee3eead7cdfbb06",
              "IPY_MODEL_51c89c2b2b9445dc9fc43e407f6eb55a"
            ],
            "layout": "IPY_MODEL_b19b60f9f6964b87a81c31364b491ca2"
          }
        },
        "3431179f41cd4b358f2323b2ed5ff158": {
          "model_module": "@jupyter-widgets/controls",
          "model_name": "HTMLModel",
          "model_module_version": "1.5.0",
          "state": {
            "_dom_classes": [],
            "_model_module": "@jupyter-widgets/controls",
            "_model_module_version": "1.5.0",
            "_model_name": "HTMLModel",
            "_view_count": null,
            "_view_module": "@jupyter-widgets/controls",
            "_view_module_version": "1.5.0",
            "_view_name": "HTMLView",
            "description": "",
            "description_tooltip": null,
            "layout": "IPY_MODEL_bc395469461341fe808011f78cf93682",
            "placeholder": "​",
            "style": "IPY_MODEL_caad7a2192154e9ca038ba1cb1ec263c",
            "value": ""
          }
        },
        "709b17b8e81a4d058ee3eead7cdfbb06": {
          "model_module": "@jupyter-widgets/controls",
          "model_name": "FloatProgressModel",
          "model_module_version": "1.5.0",
          "state": {
            "_dom_classes": [],
            "_model_module": "@jupyter-widgets/controls",
            "_model_module_version": "1.5.0",
            "_model_name": "FloatProgressModel",
            "_view_count": null,
            "_view_module": "@jupyter-widgets/controls",
            "_view_module_version": "1.5.0",
            "_view_name": "ProgressView",
            "bar_style": "success",
            "description": "",
            "description_tooltip": null,
            "layout": "IPY_MODEL_d71ad1dc5a314774b07def6638842af6",
            "max": 1,
            "min": 0,
            "orientation": "horizontal",
            "style": "IPY_MODEL_5fc01f5d87124ed5ad32b3005adca91b",
            "value": 0
          }
        },
        "51c89c2b2b9445dc9fc43e407f6eb55a": {
          "model_module": "@jupyter-widgets/controls",
          "model_name": "HTMLModel",
          "model_module_version": "1.5.0",
          "state": {
            "_dom_classes": [],
            "_model_module": "@jupyter-widgets/controls",
            "_model_module_version": "1.5.0",
            "_model_name": "HTMLModel",
            "_view_count": null,
            "_view_module": "@jupyter-widgets/controls",
            "_view_module_version": "1.5.0",
            "_view_name": "HTMLView",
            "description": "",
            "description_tooltip": null,
            "layout": "IPY_MODEL_42d57acd0a9047838e984fddd4f38766",
            "placeholder": "​",
            "style": "IPY_MODEL_8831907e8c74438e9f46f04a3052b1b8",
            "value": " 0/0 [00:00&lt;?, ?it/s]"
          }
        },
        "b19b60f9f6964b87a81c31364b491ca2": {
          "model_module": "@jupyter-widgets/base",
          "model_name": "LayoutModel",
          "model_module_version": "1.2.0",
          "state": {
            "_model_module": "@jupyter-widgets/base",
            "_model_module_version": "1.2.0",
            "_model_name": "LayoutModel",
            "_view_count": null,
            "_view_module": "@jupyter-widgets/base",
            "_view_module_version": "1.2.0",
            "_view_name": "LayoutView",
            "align_content": null,
            "align_items": null,
            "align_self": null,
            "border": null,
            "bottom": null,
            "display": null,
            "flex": null,
            "flex_flow": null,
            "grid_area": null,
            "grid_auto_columns": null,
            "grid_auto_flow": null,
            "grid_auto_rows": null,
            "grid_column": null,
            "grid_gap": null,
            "grid_row": null,
            "grid_template_areas": null,
            "grid_template_columns": null,
            "grid_template_rows": null,
            "height": null,
            "justify_content": null,
            "justify_items": null,
            "left": null,
            "margin": null,
            "max_height": null,
            "max_width": null,
            "min_height": null,
            "min_width": null,
            "object_fit": null,
            "object_position": null,
            "order": null,
            "overflow": null,
            "overflow_x": null,
            "overflow_y": null,
            "padding": null,
            "right": null,
            "top": null,
            "visibility": null,
            "width": null
          }
        },
        "bc395469461341fe808011f78cf93682": {
          "model_module": "@jupyter-widgets/base",
          "model_name": "LayoutModel",
          "model_module_version": "1.2.0",
          "state": {
            "_model_module": "@jupyter-widgets/base",
            "_model_module_version": "1.2.0",
            "_model_name": "LayoutModel",
            "_view_count": null,
            "_view_module": "@jupyter-widgets/base",
            "_view_module_version": "1.2.0",
            "_view_name": "LayoutView",
            "align_content": null,
            "align_items": null,
            "align_self": null,
            "border": null,
            "bottom": null,
            "display": null,
            "flex": null,
            "flex_flow": null,
            "grid_area": null,
            "grid_auto_columns": null,
            "grid_auto_flow": null,
            "grid_auto_rows": null,
            "grid_column": null,
            "grid_gap": null,
            "grid_row": null,
            "grid_template_areas": null,
            "grid_template_columns": null,
            "grid_template_rows": null,
            "height": null,
            "justify_content": null,
            "justify_items": null,
            "left": null,
            "margin": null,
            "max_height": null,
            "max_width": null,
            "min_height": null,
            "min_width": null,
            "object_fit": null,
            "object_position": null,
            "order": null,
            "overflow": null,
            "overflow_x": null,
            "overflow_y": null,
            "padding": null,
            "right": null,
            "top": null,
            "visibility": null,
            "width": null
          }
        },
        "caad7a2192154e9ca038ba1cb1ec263c": {
          "model_module": "@jupyter-widgets/controls",
          "model_name": "DescriptionStyleModel",
          "model_module_version": "1.5.0",
          "state": {
            "_model_module": "@jupyter-widgets/controls",
            "_model_module_version": "1.5.0",
            "_model_name": "DescriptionStyleModel",
            "_view_count": null,
            "_view_module": "@jupyter-widgets/base",
            "_view_module_version": "1.2.0",
            "_view_name": "StyleView",
            "description_width": ""
          }
        },
        "d71ad1dc5a314774b07def6638842af6": {
          "model_module": "@jupyter-widgets/base",
          "model_name": "LayoutModel",
          "model_module_version": "1.2.0",
          "state": {
            "_model_module": "@jupyter-widgets/base",
            "_model_module_version": "1.2.0",
            "_model_name": "LayoutModel",
            "_view_count": null,
            "_view_module": "@jupyter-widgets/base",
            "_view_module_version": "1.2.0",
            "_view_name": "LayoutView",
            "align_content": null,
            "align_items": null,
            "align_self": null,
            "border": null,
            "bottom": null,
            "display": null,
            "flex": null,
            "flex_flow": null,
            "grid_area": null,
            "grid_auto_columns": null,
            "grid_auto_flow": null,
            "grid_auto_rows": null,
            "grid_column": null,
            "grid_gap": null,
            "grid_row": null,
            "grid_template_areas": null,
            "grid_template_columns": null,
            "grid_template_rows": null,
            "height": null,
            "justify_content": null,
            "justify_items": null,
            "left": null,
            "margin": null,
            "max_height": null,
            "max_width": null,
            "min_height": null,
            "min_width": null,
            "object_fit": null,
            "object_position": null,
            "order": null,
            "overflow": null,
            "overflow_x": null,
            "overflow_y": null,
            "padding": null,
            "right": null,
            "top": null,
            "visibility": null,
            "width": "20px"
          }
        },
        "5fc01f5d87124ed5ad32b3005adca91b": {
          "model_module": "@jupyter-widgets/controls",
          "model_name": "ProgressStyleModel",
          "model_module_version": "1.5.0",
          "state": {
            "_model_module": "@jupyter-widgets/controls",
            "_model_module_version": "1.5.0",
            "_model_name": "ProgressStyleModel",
            "_view_count": null,
            "_view_module": "@jupyter-widgets/base",
            "_view_module_version": "1.2.0",
            "_view_name": "StyleView",
            "bar_color": null,
            "description_width": ""
          }
        },
        "42d57acd0a9047838e984fddd4f38766": {
          "model_module": "@jupyter-widgets/base",
          "model_name": "LayoutModel",
          "model_module_version": "1.2.0",
          "state": {
            "_model_module": "@jupyter-widgets/base",
            "_model_module_version": "1.2.0",
            "_model_name": "LayoutModel",
            "_view_count": null,
            "_view_module": "@jupyter-widgets/base",
            "_view_module_version": "1.2.0",
            "_view_name": "LayoutView",
            "align_content": null,
            "align_items": null,
            "align_self": null,
            "border": null,
            "bottom": null,
            "display": null,
            "flex": null,
            "flex_flow": null,
            "grid_area": null,
            "grid_auto_columns": null,
            "grid_auto_flow": null,
            "grid_auto_rows": null,
            "grid_column": null,
            "grid_gap": null,
            "grid_row": null,
            "grid_template_areas": null,
            "grid_template_columns": null,
            "grid_template_rows": null,
            "height": null,
            "justify_content": null,
            "justify_items": null,
            "left": null,
            "margin": null,
            "max_height": null,
            "max_width": null,
            "min_height": null,
            "min_width": null,
            "object_fit": null,
            "object_position": null,
            "order": null,
            "overflow": null,
            "overflow_x": null,
            "overflow_y": null,
            "padding": null,
            "right": null,
            "top": null,
            "visibility": null,
            "width": null
          }
        },
        "8831907e8c74438e9f46f04a3052b1b8": {
          "model_module": "@jupyter-widgets/controls",
          "model_name": "DescriptionStyleModel",
          "model_module_version": "1.5.0",
          "state": {
            "_model_module": "@jupyter-widgets/controls",
            "_model_module_version": "1.5.0",
            "_model_name": "DescriptionStyleModel",
            "_view_count": null,
            "_view_module": "@jupyter-widgets/base",
            "_view_module_version": "1.2.0",
            "_view_name": "StyleView",
            "description_width": ""
          }
        }
      }
    }
  },
  "nbformat": 4,
  "nbformat_minor": 0
}